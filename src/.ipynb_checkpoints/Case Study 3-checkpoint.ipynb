{
 "cells": [
  {
   "cell_type": "markdown",
   "metadata": {},
   "source": [
    "https://www.bensound.com/\n",
    "https://www.online-convert.com/result/a7e7146b-5b18-4340-8f51-50b16f8acb2e\n",
    "https://www.aconvert.com/audio/split/"
   ]
  },
  {
   "cell_type": "code",
   "execution_count": null,
   "metadata": {},
   "outputs": [],
   "source": [
    "#must run once to add WAV package\n",
    "#using Pkg\n",
    "#Pkg.add(WAV)"
   ]
  },
  {
   "cell_type": "code",
   "execution_count": 18,
   "metadata": {},
   "outputs": [
    {
     "name": "stderr",
     "output_type": "stream",
     "text": [
      "┌ Info: Precompiling AudioIO [67a87ac7-5706-59f5-9189-3507e0192122]\n",
      "└ @ Base loading.jl:1186\n",
      "ERROR: LoadError: syntax: extra token \"AudioSample\" after end of expression\n",
      "Stacktrace:\n",
      " [1] include at .\\boot.jl:326 [inlined]\n",
      " [2] include_relative(::Module, ::String) at .\\loading.jl:1038\n",
      " [3] include(::Module, ::String) at .\\sysimg.jl:29\n",
      " [4] top-level scope at none:2\n",
      " [5] eval at .\\boot.jl:328 [inlined]\n",
      " [6] eval(::Expr) at .\\client.jl:404\n",
      " [7] top-level scope at .\\none:3\n",
      "in expression starting at C:\\Users\\leonw\\.juliapro\\JuliaPro_v1.1.1.1\\dev\\AudioIO\\src\\AudioIO.jl:11\n"
     ]
    },
    {
     "ename": "ErrorException",
     "evalue": "Failed to precompile AudioIO [67a87ac7-5706-59f5-9189-3507e0192122] to C:\\Users\\leonw\\.juliapro\\JuliaPro_v1.1.1.1\\compiled\\v1.1\\AudioIO\\G3R5K.ji.",
     "output_type": "error",
     "traceback": [
      "Failed to precompile AudioIO [67a87ac7-5706-59f5-9189-3507e0192122] to C:\\Users\\leonw\\.juliapro\\JuliaPro_v1.1.1.1\\compiled\\v1.1\\AudioIO\\G3R5K.ji.",
      "",
      "Stacktrace:",
      " [1] error(::String) at .\\error.jl:33",
      " [2] compilecache(::Base.PkgId, ::String) at .\\loading.jl:1197",
      " [3] _require(::Base.PkgId) at .\\loading.jl:960",
      " [4] require(::Base.PkgId) at .\\loading.jl:858",
      " [5] require(::Module, ::Symbol) at .\\loading.jl:853",
      " [6] top-level scope at In[18]:2"
     ]
    }
   ],
   "source": [
    "using WAV"
   ]
  },
  {
   "cell_type": "code",
   "execution_count": 30,
   "metadata": {},
   "outputs": [
    {
     "data": {
      "text/plain": [
       "([0.0 0.0; 0.0 0.0; … ; -0.0227973 -0.0446181; -0.0218513 -0.0432752], 44100.0f0, 0x0010, WAVChunk[WAVChunk(Symbol(\"fmt \"), UInt8[0x10, 0x00, 0x00, 0x00, 0x01, 0x00, 0x02, 0x00, 0x44, 0xac, 0x00, 0x00, 0x10, 0xb1, 0x02, 0x00, 0x04, 0x00, 0x10, 0x00]), WAVChunk(:LIST, UInt8[0x49, 0x4e, 0x46, 0x4f, 0x49, 0x53, 0x46, 0x54, 0x0e, 0x00  …  0x35, 0x38, 0x2e, 0x31, 0x32, 0x2e, 0x31, 0x30, 0x30, 0x00])])"
      ]
     },
     "execution_count": 30,
     "metadata": {},
     "output_type": "execute_result"
    }
   ],
   "source": [
    "y1, fs1 = wavread(\"sound1.wav\")\n",
    "y2, fs2 = wavread(\"sound2.wav\")"
   ]
  },
  {
   "cell_type": "code",
   "execution_count": 25,
   "metadata": {},
   "outputs": [],
   "source": [
    "mix1 = y1 + y2 * 0.6\n",
    "mix2 = y2 + y1 * 0.6 \n",
    "\n",
    "wavwrite(mix1, \"mix1.wav\", Fs = fs1)\n",
    "wavwrite(mix2, \"mix2.wav\", Fs = fs2)\n",
    "\n",
    "mixed_signal = hcat(mix1,mix2);"
   ]
  },
  {
   "cell_type": "code",
   "execution_count": 56,
   "metadata": {},
   "outputs": [
    {
     "name": "stdout",
     "output_type": "stream",
     "text": [
      "Random matrix = [0.591946 -0.222306 -0.686395 -0.140606; 0.559049 -0.111642 0.503377 0.81877; -2.36506 2.3159 0.586921 -1.44018; -1.45456 -1.20168 0.570806 -1.02967]\n"
     ]
    },
    {
     "name": "stderr",
     "output_type": "stream",
     "text": [
      "WARNING: replacing module fastICA.\n"
     ]
    },
    {
     "name": "stdout",
     "output_type": "stream",
     "text": [
      "Tolerance change for iter 1 = 0.012200446953845923\n",
      "Tolerance change for iter 2 = 0.02126412557607338\n",
      "Tolerance change for iter 3 = 0.01739500629400037\n",
      "Tolerance change for iter 4 = 0.045905686200929385\n",
      "Tolerance change for iter 5 = 0.07466259333984882\n",
      "Tolerance change for iter 6 = 0.025939276171544456\n",
      "Tolerance change for iter 7 = 0.0012600807047775664\n",
      "Tolerance change for iter 8 = 4.002471745923053e-5\n",
      "retW = [-0.078421 -0.813661 0.0209261 -0.575646; 0.0 0.0 0.0 0.0; 0.0 0.0 0.0 0.0; 0.0 0.0 0.0 0.0]\n",
      "Tolerance change for iter 1 = 0.05071390483815974\n",
      "Tolerance change for iter 2 = 0.021609295090272873\n",
      "Tolerance change for iter 3 = 0.011163613882544388\n",
      "Tolerance change for iter 4 = 0.003468254163760953\n",
      "Tolerance change for iter 5 = 0.0007984391458822904\n",
      "Tolerance change for iter 6 = 0.00016396221678816048\n",
      "Tolerance change for iter 7 = 3.247739861111931e-5\n",
      "retW = [-0.078421 -0.813661 0.0209261 -0.575646; -0.0164178 0.578103 -0.0188274 -0.815582; 0.0 0.0 0.0 0.0; 0.0 0.0 0.0 0.0]\n",
      "Tolerance change for iter 1 = 0.01258287547976955\n",
      "Tolerance change for iter 2 = 0.0011813139366375625\n",
      "Tolerance change for iter 3 = 1.8628471579740236e-6\n",
      "retW = [-0.078421 -0.813661 0.0209261 -0.575646; -0.0164178 0.578103 -0.0188274 -0.815582; 0.88579 -0.0612625 -0.457223 -0.0507005; 0.0 0.0 0.0 0.0]\n",
      "Tolerance change for iter 1 = 2.220446049250313e-16\n",
      "retW = [-0.078421 -0.813661 0.0209261 -0.575646; -0.0164178 0.578103 -0.0188274 -0.815582; 0.88579 -0.0612625 -0.457223 -0.0507005; 0.457118 -0.000112095 0.888907 -0.0298014]\n"
     ]
    }
   ],
   "source": [
    "include(\"fastICA.jl\")\n",
    "\n",
    "#forced weights\n",
    "\n",
    "W = fastICA.whiten(mixed_signal)\n",
    "X1 = mixed_signal * W'\n",
    "a = fastICA.fast_ica(200,4,Array(X1'),0.0001, 1.)\n",
    "K = a * W\n",
    "S = K * mixed_signal';"
   ]
  },
  {
   "cell_type": "code",
   "execution_count": 52,
   "metadata": {},
   "outputs": [],
   "source": [
    "s1 = hcat(S[1,:,], S[4,:,])\n",
    "wavwrite(s1, \"result1.wav\", Fs = fs2)"
   ]
  },
  {
   "cell_type": "code",
   "execution_count": 51,
   "metadata": {},
   "outputs": [],
   "source": [
    "s2 = hcat(S[2,:,], S[3,:,])\n",
    "wavwrite(s2, \"result2.wav\", Fs = fs1)"
   ]
  },
  {
   "cell_type": "code",
   "execution_count": 54,
   "metadata": {},
   "outputs": [
    {
     "data": {
      "text/plain": [
       "4×2646000 Array{Float64,2}:\n",
       " 0.0  0.0  0.0  0.0  0.0  0.0  0.0  0.0  …   0.150706   0.16486    0.162165\n",
       " 0.0  0.0  0.0  0.0  0.0  0.0  0.0  0.0      0.164443   0.151627   0.175775\n",
       " 0.0  0.0  0.0  0.0  0.0  0.0  0.0  0.0     -0.787336  -0.813027  -0.848823\n",
       " 0.0  0.0  0.0  0.0  0.0  0.0  0.0  0.0     -0.246977  -0.235055  -0.227591"
      ]
     },
     "execution_count": 54,
     "metadata": {},
     "output_type": "execute_result"
    }
   ],
   "source": [
    "S"
   ]
  },
  {
   "cell_type": "code",
   "execution_count": null,
   "metadata": {},
   "outputs": [],
   "source": []
  }
 ],
 "metadata": {
  "kernelspec": {
   "display_name": "Julia 1.1.1",
   "language": "julia",
   "name": "julia-1.1"
  },
  "language_info": {
   "file_extension": ".jl",
   "mimetype": "application/julia",
   "name": "julia",
   "version": "1.1.1"
  }
 },
 "nbformat": 4,
 "nbformat_minor": 2
}
