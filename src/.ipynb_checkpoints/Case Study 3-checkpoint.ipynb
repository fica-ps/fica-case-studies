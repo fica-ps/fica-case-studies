{
 "cells": [
  {
   "cell_type": "markdown",
   "metadata": {},
   "source": [
    "# Case study with mixed audio samples"
   ]
  },
  {
   "cell_type": "code",
   "execution_count": null,
   "metadata": {},
   "outputs": [
    {
     "name": "stdout",
     "output_type": "stream",
     "text": [
      "\u001b[32m\u001b[1m  Updating\u001b[22m\u001b[39m registry at `C:\\Users\\David\\.julia\\registries\\General`\n",
      "\u001b[32m\u001b[1m  Updating\u001b[22m\u001b[39m git-repo `https://github.com/JuliaRegistries/General.git`\n",
      "    \u001b[36m\u001b[1mFetching:\u001b[22m\u001b[39m [========================================>]  100.0 %.0 %1.7 %\u001b[36m\u001b[1mFetching:\u001b[22m\u001b[39m [===============>                         ]  36.7 % % [======================================>  ]  93.3 %"
     ]
    }
   ],
   "source": [
    "#must run once to add WAV package\n",
    "#using Pkg\n",
    "#Pkg.add(\"WAV\")"
   ]
  },
  {
   "cell_type": "code",
   "execution_count": 1,
   "metadata": {},
   "outputs": [],
   "source": [
    "include(\"fastICA.jl\")\n",
    "using WAV"
   ]
  },
  {
   "cell_type": "markdown",
   "metadata": {},
   "source": [
    "## Load the test audio samples"
   ]
  },
  {
   "cell_type": "code",
   "execution_count": 2,
   "metadata": {},
   "outputs": [
    {
     "data": {
      "text/plain": [
       "([0.0 0.0; 0.0 0.0; … ; -0.0227973 -0.0446181; -0.0218513 -0.0432752], 44100.0f0, 0x0010, WAVChunk[WAVChunk(Symbol(\"fmt \"), UInt8[0x10, 0x00, 0x00, 0x00, 0x01, 0x00, 0x02, 0x00, 0x44, 0xac, 0x00, 0x00, 0x10, 0xb1, 0x02, 0x00, 0x04, 0x00, 0x10, 0x00]), WAVChunk(:LIST, UInt8[0x49, 0x4e, 0x46, 0x4f, 0x49, 0x53, 0x46, 0x54, 0x0e, 0x00  …  0x35, 0x38, 0x2e, 0x31, 0x32, 0x2e, 0x31, 0x30, 0x30, 0x00])])"
      ]
     },
     "execution_count": 2,
     "metadata": {},
     "output_type": "execute_result"
    }
   ],
   "source": [
    "y1, fs1 = wavread(\"sound1.wav\")\n",
    "y2, fs2 = wavread(\"sound2.wav\")\n",
    "\n"
   ]
  },
  {
   "cell_type": "code",
   "execution_count": 9,
   "metadata": {},
   "outputs": [
    {
     "ename": "MethodError",
     "evalue": "MethodError: no method matching wavplay(::Array{Float64,2}, ::Float32)\nClosest candidates are:\n  wavplay(::Any) at C:\\Users\\David\\.julia\\packages\\WAV\\aZBXG\\src\\WAV.jl:38",
     "output_type": "error",
     "traceback": [
      "MethodError: no method matching wavplay(::Array{Float64,2}, ::Float32)\nClosest candidates are:\n  wavplay(::Any) at C:\\Users\\David\\.julia\\packages\\WAV\\aZBXG\\src\\WAV.jl:38",
      "",
      "Stacktrace:",
      " [1] top-level scope at In[9]:1"
     ]
    }
   ],
   "source": [
    "#wavplay does not work in Windows systems!\n",
    "wavplay(y1,fs1)\n"
   ]
  },
  {
   "cell_type": "code",
   "execution_count": 10,
   "metadata": {},
   "outputs": [
    {
     "ename": "MethodError",
     "evalue": "MethodError: no method matching wavplay(::Array{Float64,2}, ::Float32)\nClosest candidates are:\n  wavplay(::Any) at C:\\Users\\David\\.julia\\packages\\WAV\\aZBXG\\src\\WAV.jl:38",
     "output_type": "error",
     "traceback": [
      "MethodError: no method matching wavplay(::Array{Float64,2}, ::Float32)\nClosest candidates are:\n  wavplay(::Any) at C:\\Users\\David\\.julia\\packages\\WAV\\aZBXG\\src\\WAV.jl:38",
      "",
      "Stacktrace:",
      " [1] top-level scope at In[10]:1"
     ]
    }
   ],
   "source": [
    "wavplay(y2,fs2)"
   ]
  },
  {
   "cell_type": "markdown",
   "metadata": {},
   "source": [
    "## Mix the two audio samples so we can apply the FastICA algorithm"
   ]
  },
  {
   "cell_type": "code",
   "execution_count": 3,
   "metadata": {},
   "outputs": [],
   "source": [
    "mix1 = y1 + y2 * 0.6\n",
    "mix2 = y2 + y1 * 0.6 \n",
    "\n",
    "wavwrite(mix1, \"mix1.wav\", Fs = fs1)\n",
    "wavwrite(mix2, \"mix2.wav\", Fs = fs2)\n",
    "\n",
    "mixed_signal = hcat(mix1,mix2);"
   ]
  },
  {
   "cell_type": "code",
   "execution_count": 12,
   "metadata": {},
   "outputs": [
    {
     "ename": "MethodError",
     "evalue": "MethodError: no method matching wavplay(::Array{Float64,2}, ::Float32)\nClosest candidates are:\n  wavplay(::Any) at C:\\Users\\David\\.julia\\packages\\WAV\\aZBXG\\src\\WAV.jl:38",
     "output_type": "error",
     "traceback": [
      "MethodError: no method matching wavplay(::Array{Float64,2}, ::Float32)\nClosest candidates are:\n  wavplay(::Any) at C:\\Users\\David\\.julia\\packages\\WAV\\aZBXG\\src\\WAV.jl:38",
      "",
      "Stacktrace:",
      " [1] top-level scope at In[12]:1"
     ]
    }
   ],
   "source": [
    "#wavplay does not work in Windows systems!\n",
    "wavplay(mix1,fs1)\n"
   ]
  },
  {
   "cell_type": "code",
   "execution_count": 13,
   "metadata": {},
   "outputs": [
    {
     "ename": "MethodError",
     "evalue": "MethodError: no method matching wavplay(::Array{Float64,2}, ::Float32)\nClosest candidates are:\n  wavplay(::Any) at C:\\Users\\David\\.julia\\packages\\WAV\\aZBXG\\src\\WAV.jl:38",
     "output_type": "error",
     "traceback": [
      "MethodError: no method matching wavplay(::Array{Float64,2}, ::Float32)\nClosest candidates are:\n  wavplay(::Any) at C:\\Users\\David\\.julia\\packages\\WAV\\aZBXG\\src\\WAV.jl:38",
      "",
      "Stacktrace:",
      " [1] top-level scope at In[13]:1"
     ]
    }
   ],
   "source": [
    "wavplay(mix2,fs2)"
   ]
  },
  {
   "cell_type": "markdown",
   "metadata": {},
   "source": [
    "## Applying fastICA to a 5 second sample\n",
    "### Results are saved in the 5sec folder"
   ]
  },
  {
   "cell_type": "code",
   "execution_count": 8,
   "metadata": {},
   "outputs": [
    {
     "name": "stdout",
     "output_type": "stream",
     "text": [
      "Random matrix = [-1.14809 2.13509 -1.69188 -2.47185; 0.727975 1.64143 -0.312393 1.18459; -1.525 1.573 -1.14671 -0.755852; -0.469077 0.473414 -1.42564 -1.56135]\n",
      "Component n 1\n",
      "Tolerance change for iter 1 = 0.16329175558626008\n",
      "Tolerance change for iter 2 = 0.0031636947012720906\n",
      "Tolerance change for iter 3 = 0.0002772292466575177\n",
      "Tolerance change for iter 4 = 3.2313456589716516e-5\n",
      "Component n 2\n",
      "Tolerance change for iter 1 = 0.009333870810253941\n",
      "Tolerance change for iter 2 = 0.0021384983990228035\n",
      "Tolerance change for iter 3 = 0.0006508550260005963\n",
      "Tolerance change for iter 4 = 0.00025834510081435\n",
      "Tolerance change for iter 5 = 0.00012279845566054437\n",
      "Tolerance change for iter 6 = 6.41707714056361e-5\n",
      "Component n 3\n",
      "Tolerance change for iter 1 = 0.0007095738122956385\n",
      "Tolerance change for iter 2 = 0.003004374618921224\n",
      "Tolerance change for iter 3 = 0.010501232708171049\n",
      "Tolerance change for iter 4 = 0.021943051022690008\n",
      "Tolerance change for iter 5 = 0.017857478631843837\n",
      "Tolerance change for iter 6 = 0.005641927514865808\n",
      "Tolerance change for iter 7 = 0.0011781961305817878\n",
      "Tolerance change for iter 8 = 0.00023823601309247433\n",
      "Tolerance change for iter 9 = 5.017132383633438e-5\n",
      "Component n 4\n",
      "Tolerance change for iter 1 = 1.1102230246251565e-16\n",
      "retW = [-0.0169704 0.315313 0.000965368 -0.948836; 0.0811531 0.940881 -0.106623 0.311109; -0.164541 -0.0880624 -0.982051 -0.0273207; -0.98288 0.0869835 0.155582 0.0466436]\n"
     ]
    }
   ],
   "source": [
    "#Test for 5 sec sample\n",
    "\n",
    "nsamples,_ = size(mixed_signal)\n",
    "n = round(Int64,(nsamples/12)) # (nsamples / 12) first 5 seconds samples\n",
    "mixed_5sec = mixed_signal[1:n, 1:4]\n",
    "\n",
    "\n",
    "W = fastICA.whiten(mixed_5sec)\n",
    "X1 = mixed_signal * W'\n",
    "a = fastICA.fast_ica(200,4,Array(X1'),0.0001, 1.)\n",
    "K = a * W\n",
    "S = K * mixed_5sec';\n",
    "#Results for 5 seconds\n",
    "curr = pwd()\n",
    "dir = string(curr,\"\\\\\",\"5sec\")\n",
    "s1 = hcat(S[2,:,], S[4,:,])\n",
    "s2 = hcat(S[1,:,], S[3,:,])\n",
    "wavwrite(s2, string(dir,\"\\\\\",\"result2.wav\"), Fs = fs2)\n",
    "wavwrite(s1, string(dir,\"\\\\\",\"result1.wav\"), Fs = fs1)\n",
    "wavwrite(S[1,:,], string(dir,\"\\\\\",\"left1.wav\"), Fs = fs2)\n",
    "wavwrite(S[2,:,], string(dir,\"\\\\\",\"right1.wav\"), Fs = fs1)\n",
    "wavwrite(S[3,:,],string(dir,\"\\\\\",\"left2.wav\"), Fs = fs1)\n",
    "wavwrite(S[4,:,], string(dir,\"\\\\\",\"right2.wav\"), Fs = fs1)"
   ]
  },
  {
   "cell_type": "markdown",
   "metadata": {},
   "source": [
    "## Applying fastICA to a 15 second sample\n",
    "### Results are saved in the 15sec folder"
   ]
  },
  {
   "cell_type": "code",
   "execution_count": 6,
   "metadata": {},
   "outputs": [
    {
     "name": "stdout",
     "output_type": "stream",
     "text": [
      "Random matrix = [-0.858014 0.0415061 0.671244 0.414761; -0.241881 1.75641 -0.490795 -0.0306709; 1.56151 0.678671 -2.42101 2.26454; 0.805001 -1.99566 0.888874 -0.520768]\n",
      "Component n 1\n",
      "Tolerance change for iter 1 = 0.42455478969693106\n",
      "Tolerance change for iter 2 = 0.1943827335524928\n",
      "Tolerance change for iter 3 = 0.010317429706353631\n",
      "Tolerance change for iter 4 = 0.00020387744397054597\n",
      "Tolerance change for iter 5 = 6.225411638194345e-6\n",
      "Tolerance change for iter 6 = 3.0147880680786443e-7\n",
      "Component n 2\n",
      "Tolerance change for iter 1 = 0.029971137377273194\n",
      "Tolerance change for iter 2 = 0.004441913189513036\n",
      "Tolerance change for iter 3 = 0.0005423045137415983\n",
      "Tolerance change for iter 4 = 7.160161801889053e-5\n",
      "Tolerance change for iter 5 = 9.199174252128017e-6\n",
      "Tolerance change for iter 6 = 1.1936932198253203e-6\n",
      "Tolerance change for iter 7 = 1.543434774431418e-7\n",
      "Component n 3\n",
      "Tolerance change for iter 1 = 0.0558746430019772\n",
      "Tolerance change for iter 2 = 0.001512558484587867\n",
      "Tolerance change for iter 3 = 0.0011159191097175336\n",
      "Tolerance change for iter 4 = 0.00026545495780683215\n",
      "Tolerance change for iter 5 = 1.4526245458945652e-5\n",
      "Tolerance change for iter 6 = 2.523178608271337e-7\n",
      "Component n 4\n",
      "Tolerance change for iter 1 = 2.220446049250313e-16\n",
      "retW = [0.0578784 0.37259 0.0503199 0.924821; -0.0838418 0.918735 -0.14667 -0.35691; 0.655629 -0.0522274 -0.752982 0.0209799; -0.748179 -0.119898 -0.63951 0.129924]\n"
     ]
    }
   ],
   "source": [
    "#Test for 15 sec sample\n",
    "\n",
    "\n",
    "\n",
    "nsamples,_ = size(mixed_signal)\n",
    "n = round(Int64,(nsamples/4)) # (nsamples / 4) first 15 seconds samples\n",
    "mixed_15sec = mixed_signal[1:n, 1:4]\n",
    "\n",
    "\n",
    "W = fastICA.whiten(mixed_15sec)\n",
    "X1 = mixed_signal * W'\n",
    "a = fastICA.fast_ica(200,4,Array(X1'),0.000001, 1.)\n",
    "K = a * W\n",
    "S = K * mixed_15sec';\n",
    "#Results for 5 seconds\n",
    "s1 = hcat(S[2,:,], S[4,:,])\n",
    "s2 = hcat(S[1,:,], S[3,:,])\n",
    "curr = pwd()\n",
    "dir = string(curr,\"\\\\\",\"15sec\")\n",
    "wavwrite(s2, string(dir,\"\\\\\",\"result2.wav\"), Fs = fs2)\n",
    "wavwrite(s1, string(dir,\"\\\\\",\"result1.wav\"), Fs = fs1)\n",
    "wavwrite(S[1,:,], string(dir,\"\\\\\",\"left1.wav\"), Fs = fs2)\n",
    "wavwrite(S[2,:,], string(dir,\"\\\\\",\"right1.wav\"), Fs = fs1)\n",
    "wavwrite(S[3,:,],string(dir,\"\\\\\",\"left2.wav\"), Fs = fs1)\n",
    "wavwrite(S[4,:,], string(dir,\"\\\\\",\"right2.wav\"), Fs = fs1)\n"
   ]
  },
  {
   "cell_type": "markdown",
   "metadata": {},
   "source": [
    "## Applying fastICA to a 1 minute sample\n",
    "### Results are saved in the min folder"
   ]
  },
  {
   "cell_type": "code",
   "execution_count": 12,
   "metadata": {
    "scrolled": true
   },
   "outputs": [
    {
     "name": "stdout",
     "output_type": "stream",
     "text": [
      "Random matrix = [-0.961064 -1.39923 -0.548748 2.20603; -0.072282 0.120569 0.578469 -0.348058; 0.211448 -0.225194 1.37509 0.116837; 0.00403291 0.142343 1.21925 0.835459]\n",
      "Component n 1\n",
      "Tolerance change for iter 1 = 0.040167904878670724\n",
      "Tolerance change for iter 2 = 0.0048292151463027455\n",
      "Tolerance change for iter 3 = 0.0010086616346449695\n",
      "Tolerance change for iter 4 = 0.0001950315044139117\n",
      "Tolerance change for iter 5 = 3.7504792068210335e-5\n",
      "Component n 2\n",
      "Tolerance change for iter 1 = 0.12313422484666037\n",
      "Tolerance change for iter 2 = 0.0064058569370119\n",
      "Tolerance change for iter 3 = 1.3840590204150516e-5\n",
      "Component n 3\n",
      "Tolerance change for iter 1 = 0.00892887510002005\n",
      "Tolerance change for iter 2 = 0.029895763857442637\n",
      "Tolerance change for iter 3 = 0.06302878722811223\n",
      "Tolerance change for iter 4 = 0.052579195499538045\n",
      "Tolerance change for iter 5 = 0.01443573522421504\n",
      "Tolerance change for iter 6 = 0.0010636688923320037\n",
      "Tolerance change for iter 7 = 4.114500461238624e-5\n",
      "Component n 4\n",
      "Tolerance change for iter 1 = 0.0\n",
      "retW = [-0.0094551 0.589084 -0.0072896 -0.807984; -0.453918 0.00857525 -0.890786 0.0196005; 0.0828017 0.805447 -0.0215354 0.58646; 0.887137 -0.064511 -0.453853 -0.0533203]\n"
     ]
    }
   ],
   "source": [
    "#results for 1 min\n",
    "\n",
    "\n",
    "#forced weights\n",
    "\n",
    "W = fastICA.whiten(mixed_signal)\n",
    "X1 = mixed_signal * W'\n",
    "a = fastICA.fast_ica(200,4,Array(X1'),0.0001, 1.)\n",
    "K = a * W\n",
    "S = K * mixed_signal';\n",
    "s1 = hcat(S[2,:,], S[4,:,])\n",
    "s2 = hcat(S[1,:,], S[3,:,])\n",
    "curr = pwd()\n",
    "dir = string(curr,\"\\\\\",min)\n",
    "wavwrite(s2, string(dir,\"\\\\\",\"result2.wav\"), Fs = fs2)\n",
    "wavwrite(s1, string(dir,\"\\\\\",\"result1.wav\"), Fs = fs1)\n",
    "wavwrite(S[1,:,], string(dir,\"\\\\\",\"left1.wav\"), Fs = fs2)\n",
    "wavwrite(S[2,:,], string(dir,\"\\\\\",\"right1.wav\"), Fs = fs1)\n",
    "wavwrite(S[3,:,],string(dir,\"\\\\\",\"left2.wav\"), Fs = fs1)\n",
    "wavwrite(S[4,:,], string(dir,\"\\\\\",\"right2.wav\"), Fs = fs1)"
   ]
  },
  {
   "cell_type": "code",
   "execution_count": 1,
   "metadata": {},
   "outputs": [
    {
     "data": {
      "text/plain": [
       "mserror (generic function with 1 method)"
      ]
     },
     "execution_count": 1,
     "metadata": {},
     "output_type": "execute_result"
    }
   ],
   "source": [
    "function normalize_audio(sample,size)\n",
    "    minv = minimum(sample)\n",
    "    maxv = maximum(sample)\n",
    "    for i = 1:size\n",
    "        sample[i] = (sample[i] - minv)/(maxv - minv)\n",
    "    end\n",
    "end\n",
    "\n",
    "function mserror(A,B,width) sum = 0.0\n",
    "    for x = 1:width\n",
    "          difference = (A[x] - B[x])\n",
    "          sum = sum + difference * difference\n",
    "    end\n",
    "    mse = sum /(width)\n",
    "    println(\"The mean square error is $mse\")\n",
    "    return mse\n",
    "end     "
   ]
  },
  {
   "cell_type": "markdown",
   "metadata": {},
   "source": [
    "## Normalize original and results so MSE can be applied"
   ]
  },
  {
   "cell_type": "code",
   "execution_count": 22,
   "metadata": {},
   "outputs": [],
   "source": [
    "#normalize original samples and results\n",
    "\n",
    "og1 = vec(y1)\n",
    "\n",
    "og2 = vec(y2)\n",
    "\n",
    "res1 = vec(s1)\n",
    "res2 = vec(s2)\n",
    "\n",
    "s = size(og1)\n",
    "\n",
    "nog1 = normalize_audio(og1,s[1])\n",
    "nog2 = normalize_audio(og2,s[1])\n",
    "\n",
    "nres1 = normalize_audio(res1,s[1])\n",
    "nres2 = normalize_audio(res2,s[1])\n"
   ]
  },
  {
   "cell_type": "markdown",
   "metadata": {},
   "source": [
    "## Using MSE to compare our results with the original image"
   ]
  },
  {
   "cell_type": "code",
   "execution_count": 40,
   "metadata": {},
   "outputs": [
    {
     "name": "stdout",
     "output_type": "stream",
     "text": [
      "The mean square error is 0.029182868907675807\n"
     ]
    },
    {
     "data": {
      "text/plain": [
       "2.9182868907675807"
      ]
     },
     "execution_count": 40,
     "metadata": {},
     "output_type": "execute_result"
    }
   ],
   "source": [
    "mserror(og1,res2,s[1])*100"
   ]
  },
  {
   "cell_type": "code",
   "execution_count": 41,
   "metadata": {},
   "outputs": [
    {
     "name": "stdout",
     "output_type": "stream",
     "text": [
      "The mean square error is 0.004364755631106922\n"
     ]
    },
    {
     "data": {
      "text/plain": [
       "0.43647556311069213"
      ]
     },
     "execution_count": 41,
     "metadata": {},
     "output_type": "execute_result"
    }
   ],
   "source": [
    "mserror(og2,res1,s[1])*100"
   ]
  }
 ],
 "metadata": {
  "kernelspec": {
   "display_name": "Julia 1.1.1",
   "language": "julia",
   "name": "julia-1.1"
  },
  "language_info": {
   "file_extension": ".jl",
   "mimetype": "application/julia",
   "name": "julia",
   "version": "1.1.1"
  }
 },
 "nbformat": 4,
 "nbformat_minor": 2
}
