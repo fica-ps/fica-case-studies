{
 "cells": [
  {
   "cell_type": "markdown",
   "metadata": {},
   "source": [
    "https://www.bensound.com/\n",
    "https://www.online-convert.com/result/a7e7146b-5b18-4340-8f51-50b16f8acb2e\n",
    "https://www.aconvert.com/audio/split/"
   ]
  },
  {
   "cell_type": "code",
   "execution_count": null,
   "metadata": {},
   "outputs": [
    {
     "name": "stdout",
     "output_type": "stream",
     "text": [
      "\u001b[32m\u001b[1m  Updating\u001b[22m\u001b[39m registry at `C:\\Users\\David\\.julia\\registries\\General`\n",
      "\u001b[32m\u001b[1m  Updating\u001b[22m\u001b[39m git-repo `https://github.com/JuliaRegistries/General.git`\n",
      "    \u001b[36m\u001b[1mFetching:\u001b[22m\u001b[39m [========================================>]  100.0 %.0 %1.7 %\u001b[36m\u001b[1mFetching:\u001b[22m\u001b[39m [===============>                         ]  36.7 % % [======================================>  ]  93.3 %"
     ]
    }
   ],
   "source": [
    "#must run once to add WAV package\n",
    "#using Pkg\n",
    "#Pkg.add(\"WAV\")"
   ]
  },
  {
   "cell_type": "code",
   "execution_count": 7,
   "metadata": {},
   "outputs": [],
   "source": [
    "include(\"fastICA.jl\")\n",
    "using WAV"
   ]
  },
  {
   "cell_type": "code",
   "execution_count": 8,
   "metadata": {},
   "outputs": [
    {
     "data": {
      "text/plain": [
       "([0.0 0.0; 0.0 0.0; … ; -0.0227973 -0.0446181; -0.0218513 -0.0432752], 44100.0f0, 0x0010, WAVChunk[WAVChunk(Symbol(\"fmt \"), UInt8[0x10, 0x00, 0x00, 0x00, 0x01, 0x00, 0x02, 0x00, 0x44, 0xac, 0x00, 0x00, 0x10, 0xb1, 0x02, 0x00, 0x04, 0x00, 0x10, 0x00]), WAVChunk(:LIST, UInt8[0x49, 0x4e, 0x46, 0x4f, 0x49, 0x53, 0x46, 0x54, 0x0e, 0x00  …  0x35, 0x38, 0x2e, 0x31, 0x32, 0x2e, 0x31, 0x30, 0x30, 0x00])])"
      ]
     },
     "execution_count": 8,
     "metadata": {},
     "output_type": "execute_result"
    }
   ],
   "source": [
    "y1, fs1 = wavread(\"sound1.wav\")\n",
    "y2, fs2 = wavread(\"sound2.wav\")\n",
    "\n"
   ]
  },
  {
   "cell_type": "code",
   "execution_count": 9,
   "metadata": {},
   "outputs": [
    {
     "ename": "MethodError",
     "evalue": "MethodError: no method matching wavplay(::Array{Float64,2}, ::Float32)\nClosest candidates are:\n  wavplay(::Any) at C:\\Users\\David\\.julia\\packages\\WAV\\aZBXG\\src\\WAV.jl:38",
     "output_type": "error",
     "traceback": [
      "MethodError: no method matching wavplay(::Array{Float64,2}, ::Float32)\nClosest candidates are:\n  wavplay(::Any) at C:\\Users\\David\\.julia\\packages\\WAV\\aZBXG\\src\\WAV.jl:38",
      "",
      "Stacktrace:",
      " [1] top-level scope at In[9]:1"
     ]
    }
   ],
   "source": [
    "#wavplay does not work in Windows systems!\n",
    "wavplay(y1,fs1)\n"
   ]
  },
  {
   "cell_type": "code",
   "execution_count": 10,
   "metadata": {},
   "outputs": [
    {
     "ename": "MethodError",
     "evalue": "MethodError: no method matching wavplay(::Array{Float64,2}, ::Float32)\nClosest candidates are:\n  wavplay(::Any) at C:\\Users\\David\\.julia\\packages\\WAV\\aZBXG\\src\\WAV.jl:38",
     "output_type": "error",
     "traceback": [
      "MethodError: no method matching wavplay(::Array{Float64,2}, ::Float32)\nClosest candidates are:\n  wavplay(::Any) at C:\\Users\\David\\.julia\\packages\\WAV\\aZBXG\\src\\WAV.jl:38",
      "",
      "Stacktrace:",
      " [1] top-level scope at In[10]:1"
     ]
    }
   ],
   "source": [
    "wavplay(y2,fs2)"
   ]
  },
  {
   "cell_type": "code",
   "execution_count": 10,
   "metadata": {},
   "outputs": [],
   "source": [
    "mix1 = y1 + y2 * 0.6\n",
    "mix2 = y2 + y1 * 0.6 \n",
    "\n",
    "wavwrite(mix1, \"mix1.wav\", Fs = fs1)\n",
    "wavwrite(mix2, \"mix2.wav\", Fs = fs2)\n",
    "\n",
    "mixed_signal = hcat(mix1,mix2);"
   ]
  },
  {
   "cell_type": "code",
   "execution_count": 12,
   "metadata": {},
   "outputs": [
    {
     "ename": "MethodError",
     "evalue": "MethodError: no method matching wavplay(::Array{Float64,2}, ::Float32)\nClosest candidates are:\n  wavplay(::Any) at C:\\Users\\David\\.julia\\packages\\WAV\\aZBXG\\src\\WAV.jl:38",
     "output_type": "error",
     "traceback": [
      "MethodError: no method matching wavplay(::Array{Float64,2}, ::Float32)\nClosest candidates are:\n  wavplay(::Any) at C:\\Users\\David\\.julia\\packages\\WAV\\aZBXG\\src\\WAV.jl:38",
      "",
      "Stacktrace:",
      " [1] top-level scope at In[12]:1"
     ]
    }
   ],
   "source": [
    "#wavplay does not work in Windows systems!\n",
    "wavplay(mix1,fs1)\n"
   ]
  },
  {
   "cell_type": "code",
   "execution_count": 13,
   "metadata": {},
   "outputs": [
    {
     "ename": "MethodError",
     "evalue": "MethodError: no method matching wavplay(::Array{Float64,2}, ::Float32)\nClosest candidates are:\n  wavplay(::Any) at C:\\Users\\David\\.julia\\packages\\WAV\\aZBXG\\src\\WAV.jl:38",
     "output_type": "error",
     "traceback": [
      "MethodError: no method matching wavplay(::Array{Float64,2}, ::Float32)\nClosest candidates are:\n  wavplay(::Any) at C:\\Users\\David\\.julia\\packages\\WAV\\aZBXG\\src\\WAV.jl:38",
      "",
      "Stacktrace:",
      " [1] top-level scope at In[13]:1"
     ]
    }
   ],
   "source": [
    "wavplay(mix2,fs2)"
   ]
  },
  {
   "cell_type": "code",
   "execution_count": 55,
   "metadata": {},
   "outputs": [
    {
     "name": "stdout",
     "output_type": "stream",
     "text": [
      "Random matrix = [-2.17417 -1.21237 0.288193 -0.819803; -0.87689 -1.46736 1.91851 -0.468979; -0.341811 -0.631143 0.309365 1.44082; 1.96785 -1.42921 -0.264769 -0.161161]\n"
     ]
    },
    {
     "name": "stderr",
     "output_type": "stream",
     "text": [
      "WARNING: replacing module fastICA.\n"
     ]
    },
    {
     "name": "stdout",
     "output_type": "stream",
     "text": [
      "Tolerance change for iter 1 = 0.4312902125478091\n",
      "Tolerance change for iter 2 = 0.007579621434227635\n",
      "Tolerance change for iter 3 = 0.00040626222984696536\n",
      "Tolerance change for iter 4 = 4.3735576650605346e-5\n",
      "retW = [-0.0170096 -0.315954 -0.000945426 -0.948622; 0.0 0.0 0.0 0.0; 0.0 0.0 0.0 0.0; 0.0 0.0 0.0 0.0]\n",
      "retW[u,:,] = [-0.0170096, -0.315954, -0.000945426, -0.948622]\n",
      "Tolerance change for iter 1 = 0.12349267934660269\n",
      "Tolerance change for iter 2 = 0.033410246800766874\n",
      "Tolerance change for iter 3 = 0.006101650034602835\n",
      "Tolerance change for iter 4 = 0.0014807621269049553\n",
      "Tolerance change for iter 5 = 0.000494814377799746\n",
      "Tolerance change for iter 6 = 0.00021327576173002516\n",
      "Tolerance change for iter 7 = 0.0001062711224494306\n",
      "Tolerance change for iter 8 = 5.676757271211308e-5\n",
      "retW = [-0.0170096 -0.315954 -0.000945426 -0.948622; 0.0784846 -0.94092 0.10603 0.311876; 0.0 0.0 0.0 0.0; 0.0 0.0 0.0 0.0]\n",
      "retW[u,:,] = [-0.0170096, -0.315954, -0.000945426, -0.948622]\n",
      "retW[u,:,] = [0.0784846, -0.94092, 0.10603, 0.311876]\n",
      "Tolerance change for iter 1 = 0.008972092309333268\n",
      "Tolerance change for iter 2 = 0.0321349732267765\n",
      "Tolerance change for iter 3 = 0.04359918231072046\n",
      "Tolerance change for iter 4 = 0.011210176599666832\n",
      "Tolerance change for iter 5 = 0.0008647494825283486\n",
      "Tolerance change for iter 6 = 4.667707341499128e-5\n",
      "retW = [-0.0170096 -0.315954 -0.000945426 -0.948622; 0.0784846 -0.94092 0.10603 0.311876; -0.886791 -0.107057 -0.446584 0.0520031; 0.0 0.0 0.0 0.0]\n",
      "retW[u,:,] = [-0.0170096, -0.315954, -0.000945426, -0.948622]\n",
      "retW[u,:,] = [0.0784846, -0.94092, 0.10603, 0.311876]\n",
      "retW[u,:,] = [-0.886791, -0.107057, -0.446584, 0.0520031]\n",
      "Tolerance change for iter 1 = 0.0\n",
      "retW = [-0.0170096 -0.315954 -0.000945426 -0.948622; 0.0784846 -0.94092 0.10603 0.311876; -0.886791 -0.107057 -0.446584 0.0520031; 0.455141 -0.0581437 -0.888437 0.0120901]\n"
     ]
    }
   ],
   "source": [
    "#Test for 5 sec sample\n",
    "\n",
    "nsamples,_ = size(mixed_signal)\n",
    "n = round(Int64,(nsamples/12)) # (nsamples / 12) first 5 seconds samples\n",
    "mixed_5sec = mixed_signal[1:n, 1:4]\n",
    "\n",
    "\n",
    "W = fastICA.whiten(mixed_5sec)\n",
    "X1 = mixed_signal * W'\n",
    "a = fastICA.fast_ica(200,4,Array(X1'),0.0001, 1.)\n",
    "K = a * W\n",
    "S = K * mixed_5sec';\n",
    "#Results for 5 seconds\n",
    "s1 = hcat(S[2,:,], S[4,:,])\n",
    "s2 = hcat(S[1,:,], S[3,:,])\n",
    "wavwrite(s2, \"result1_5sec.wav\", Fs = fs2)\n",
    "wavwrite(s1, \"result2_5sec.wav\", Fs = fs1)"
   ]
  },
  {
   "cell_type": "code",
   "execution_count": 40,
   "metadata": {},
   "outputs": [
    {
     "name": "stdout",
     "output_type": "stream",
     "text": [
      "Random matrix = [0.143841 -0.0534912 0.901242 -0.662239; -1.15153 -1.97102 0.349153 0.340021; -0.00165223 -0.677296 1.02621 -1.68514; -1.33759 0.197159 1.27575 -1.23808]\n",
      "Tolerance change for iter 1 = 0.7302837130470288\n",
      "Tolerance change for iter 2 = 0.04642968943228132\n",
      "Tolerance change for iter 3 = 0.00015685470269399815\n",
      "Tolerance change for iter 4 = 7.505235034899194e-6\n",
      "Tolerance change for iter 5 = 3.8236655919288154e-7\n",
      "retW = [-0.058323 -0.372542 -0.0501426 -0.924822; 0.0 0.0 0.0 0.0; 0.0 0.0 0.0 0.0; 0.0 0.0 0.0 0.0]\n",
      "retW[u,:,] = [-0.058323, -0.372542, -0.0501426, -0.924822]\n",
      "Tolerance change for iter 1 = 0.09806205591257455\n",
      "Tolerance change for iter 2 = 0.005977472971797404\n",
      "Tolerance change for iter 3 = 0.0009346796638218802\n",
      "Tolerance change for iter 4 = 0.000147619891822659\n",
      "Tolerance change for iter 5 = 2.2959339741612794e-5\n",
      "Tolerance change for iter 6 = 3.5080341076465515e-6\n",
      "Tolerance change for iter 7 = 5.331160427557435e-7\n",
      "retW = [-0.058323 -0.372542 -0.0501426 -0.924822; 0.0837291 -0.918731 0.146927 0.356842; 0.0 0.0 0.0 0.0; 0.0 0.0 0.0 0.0]\n",
      "retW[u,:,] = [-0.058323, -0.372542, -0.0501426, -0.924822]\n",
      "retW[u,:,] = [0.0837291, -0.918731, 0.146927, 0.356842]\n",
      "Tolerance change for iter 1 = 0.26747219939002465\n",
      "Tolerance change for iter 2 = 0.30447808628203643\n",
      "Tolerance change for iter 3 = 0.3704471455608418\n",
      "Tolerance change for iter 4 = 0.5016992044445684\n",
      "Tolerance change for iter 5 = 0.8423757914417094\n",
      "Tolerance change for iter 6 = 0.2573390844089497\n",
      "Tolerance change for iter 7 = 0.012405405635797284\n",
      "Tolerance change for iter 8 = 0.029633415827666765\n",
      "Tolerance change for iter 9 = 0.0029494005456260908\n",
      "Tolerance change for iter 10 = 0.0011343240562253776\n",
      "Tolerance change for iter 11 = 0.0005637820274986272\n",
      "Tolerance change for iter 12 = 0.00024822156800308193\n",
      "Tolerance change for iter 13 = 0.0001204305748279122\n",
      "Tolerance change for iter 14 = 5.514091284275491e-5\n",
      "Tolerance change for iter 15 = 2.635533586503591e-5\n",
      "Tolerance change for iter 16 = 1.225236122393003e-5\n",
      "Tolerance change for iter 17 = 5.809683940261046e-6\n",
      "Tolerance change for iter 18 = 2.718688813851955e-6\n",
      "Tolerance change for iter 19 = 1.2840040606310055e-6\n",
      "Tolerance change for iter 20 = 6.026491180533e-7\n",
      "retW = [-0.058323 -0.372542 -0.0501426 -0.924822; 0.0837291 -0.918731 0.146927 0.356842; -0.994738 -0.0565738 0.00622922 0.0851838; 0.0 0.0 0.0 0.0]\n",
      "retW[u,:,] = [-0.058323, -0.372542, -0.0501426, -0.924822]\n",
      "retW[u,:,] = [0.0837291, -0.918731, 0.146927, 0.356842]\n",
      "retW[u,:,] = [-0.994738, -0.0565738, 0.00622922, 0.0851838]\n",
      "Tolerance change for iter 1 = 1.1102230246251565e-16\n",
      "retW = [-0.058323 -0.372542 -0.0501426 -0.924822; 0.0837291 -0.918731 0.146927 0.356842; -0.994738 -0.0565738 0.00622922 0.0851838; 0.00914107 -0.118092 -0.987856 0.100554]\n"
     ]
    }
   ],
   "source": [
    "#Test for 15 sec sample\n",
    "\n",
    "\n",
    "\n",
    "nsamples,_ = size(mixed_signal)\n",
    "n = round(Int64,(nsamples/4)) # (nsamples / 4) first 15 seconds samples\n",
    "mixed_15sec = mixed_signal[1:n, 1:4]\n",
    "\n",
    "\n",
    "W = fastICA.whiten(mixed_15sec)\n",
    "X1 = mixed_signal * W'\n",
    "a = fastICA.fast_ica(200,4,Array(X1'),0.000001, 1.)\n",
    "K = a * W\n",
    "S = K * mixed_15sec';\n",
    "#Results for 5 seconds\n",
    "s1 = hcat(S[2,:,], S[4,:,])\n",
    "s2 = hcat(S[1,:,], S[3,:,])\n",
    "curr = pwd()\n",
    "dir = string(curr,\"\\\\\",\"15sec\")\n",
    "wavwrite(s2, string(dir,\"\\\\\",\"result2.wav\"), Fs = fs2)\n",
    "wavwrite(s1, string(dir,\"\\\\\",\"result1.wav\"), Fs = fs1)\n",
    "wavwrite(S[1,:,], string(dir,\"\\\\\",\"left1.wav\"), Fs = fs2)\n",
    "wavwrite(S[2,:,], string(dir,\"\\\\\",\"right1.wav\"), Fs = fs1)\n",
    "wavwrite(S[3,:,],string(dir,\"\\\\\",\"left2.wav\"), Fs = fs1)\n",
    "wavwrite(S[4,:,], string(dir,\"\\\\\",\"right2.wav\"), Fs = fs1)\n"
   ]
  },
  {
   "cell_type": "code",
   "execution_count": 38,
   "metadata": {
    "scrolled": true
   },
   "outputs": [
    {
     "name": "stdout",
     "output_type": "stream",
     "text": [
      "Random matrix = [-0.677034 0.100596 1.01375 -1.5158; 0.781689 -0.45586 -1.2062 0.368748; -0.831374 -1.33267 0.662855 -1.23649; 1.81132 -1.6778 -1.77343 1.05085]\n",
      "Tolerance change for iter 1 = 0.15723858354784603\n",
      "Tolerance change for iter 2 = 0.03177900557037905\n",
      "Tolerance change for iter 3 = 0.001796104405265897\n",
      "Tolerance change for iter 4 = 0.0003031155704978916\n",
      "Tolerance change for iter 5 = 5.8193452063703965e-5\n",
      "retW = [0.00871384 -0.589074 0.00580022 0.808011; 0.0 0.0 0.0 0.0; 0.0 0.0 0.0 0.0; 0.0 0.0 0.0 0.0]\n",
      "retW[u,:,] = [0.00871384, -0.589074, 0.00580022, 0.808011]\n",
      "Tolerance change for iter 1 = 0.010668298060819148\n",
      "Tolerance change for iter 2 = 0.08892030953673058\n",
      "Tolerance change for iter 3 = 0.09630219593792244\n",
      "Tolerance change for iter 4 = 0.0006165551768673172\n",
      "Tolerance change for iter 5 = 1.6040455153021327e-7\n",
      "retW = [0.00871384 -0.589074 0.00580022 0.808011; 0.453954 -0.00935276 0.890792 -0.0181086; 0.0 0.0 0.0 0.0; 0.0 0.0 0.0 0.0]\n",
      "retW[u,:,] = [0.00871384, -0.589074, 0.00580022, 0.808011]\n",
      "retW[u,:,] = [0.453954, -0.00935276, 0.890792, -0.0181086]\n",
      "Tolerance change for iter 1 = 0.040537046104999974\n",
      "Tolerance change for iter 2 = 0.007373703113193741\n",
      "Tolerance change for iter 3 = 0.00040471764444949265\n",
      "Tolerance change for iter 4 = 1.4734043730646462e-5\n",
      "retW = [0.00871384 -0.589074 0.00580022 0.808011; 0.453954 -0.00935276 0.890792 -0.0181086; -0.0819431 -0.8055 0.0213786 -0.586513; 0.0 0.0 0.0 0.0]\n",
      "retW[u,:,] = [0.00871384, -0.589074, 0.00580022, 0.808011]\n",
      "retW[u,:,] = [0.453954, -0.00935276, 0.890792, -0.0181086]\n",
      "retW[u,:,] = [-0.0819431, -0.8055, 0.0213786, -0.586513]\n",
      "Tolerance change for iter 1 = 2.220446049250313e-16\n",
      "retW = [0.00871384 -0.589074 0.00580022 0.808011; 0.453954 -0.00935276 0.890792 -0.0181086; -0.0819431 -0.8055 0.0213786 -0.586513; -0.887206 0.0638255 0.453871 0.0528413]\n"
     ]
    }
   ],
   "source": [
    "#results for 1 min\n",
    "\n",
    "\n",
    "#forced weights\n",
    "\n",
    "W = fastICA.whiten(mixed_signal)\n",
    "X1 = mixed_signal * W'\n",
    "a = fastICA.fast_ica(200,4,Array(X1'),0.0001, 1.)\n",
    "K = a * W\n",
    "S = K * mixed_signal';\n",
    "s1 = hcat(S[2,:,], S[4,:,])\n",
    "s2 = hcat(S[1,:,], S[3,:,])\n",
    "curr = pwd()\n",
    "dir = string(curr,\"\\\\\",min)\n",
    "wavwrite(s2, string(dir,\"\\\\\",\"result2.wav\"), Fs = fs2)\n",
    "wavwrite(s1, string(dir,\"\\\\\",\"result1.wav\"), Fs = fs1)\n",
    "wavwrite(S[1,:,], string(dir,\"\\\\\",\"left1.wav\"), Fs = fs2)\n",
    "wavwrite(S[2,:,], string(dir,\"\\\\\",\"right1.wav\"), Fs = fs1)\n",
    "wavwrite(S[3,:,],string(dir,\"\\\\\",\"left2.wav\"), Fs = fs1)\n",
    "wavwrite(S[4,:,], string(dir,\"\\\\\",\"right2.wav\"), Fs = fs1)"
   ]
  },
  {
   "cell_type": "code",
   "execution_count": 51,
   "metadata": {},
   "outputs": [],
   "source": [
    "wavplay(s1,fs2)"
   ]
  }
 ],
 "metadata": {
  "kernelspec": {
   "display_name": "Julia 1.1.1",
   "language": "julia",
   "name": "julia-1.1"
  },
  "language_info": {
   "file_extension": ".jl",
   "mimetype": "application/julia",
   "name": "julia",
   "version": "1.1.1"
  }
 },
 "nbformat": 4,
 "nbformat_minor": 2
}
