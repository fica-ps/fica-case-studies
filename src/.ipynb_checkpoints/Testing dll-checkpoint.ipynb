{
 "cells": [
  {
   "cell_type": "markdown",
   "metadata": {},
   "source": [
    "##This will result in dead kernel!! Testing behavior when error is forced"
   ]
  },
  {
   "cell_type": "code",
   "execution_count": 6,
   "metadata": {},
   "outputs": [
    {
     "ename": "ErrorException",
     "evalue": "error compiling top-level scope: could not load library \"ficaexp\"\n",
     "output_type": "error",
     "traceback": [
      "error compiling top-level scope: could not load library \"ficaexp\"\n",
      ""
     ]
    }
   ],
   "source": [
    "A = [1.0, 2.0, 3.0, 4.0, 5.0, 6.0]\n",
    "r = ccall((:create_matrix,\"fica\"),Ptr{Cvoid}, (Ptr{Cdouble},Cuintmax_t,Cuintmax_t), A,3,2)\n",
    "ccall((:free_matrix,\"fica\"),Cvoid,(Ptr{Cvoid},),r)\n",
    "ccall((:print_matrix,\"fica\"),Cvoid,(Ptr{Cvoid},),r)"
   ]
  },
  {
   "cell_type": "code",
   "execution_count": 5,
   "metadata": {},
   "outputs": [
    {
     "data": {
      "text/plain": [
       "\"C:\\\\Users\\\\leonw\\\\Desktop\\\\ISEL\\\\project\\\\FICA\\\\fica-case-studies\\\\src\""
      ]
     },
     "execution_count": 5,
     "metadata": {},
     "output_type": "execute_result"
    }
   ],
   "source": [
    "pwd()"
   ]
  },
  {
   "cell_type": "code",
   "execution_count": 5,
   "metadata": {},
   "outputs": [
    {
     "ename": "ErrorException",
     "evalue": "ccall: could not find function print_matrix in library fica",
     "output_type": "error",
     "traceback": [
      "ccall: could not find function print_matrix in library fica",
      "",
      "Stacktrace:",
      " [1] top-level scope at .\\In[5]:2"
     ]
    }
   ],
   "source": [
    "A = [1.0, 2.0, 3.0, 4.0, 5.0, 6.0]\n",
    "r = ccall((:new_matrix,\"fica\"),Ptr{Cvoid}, (Ptr{Cdouble},Cuintmax_t,Cuintmax_t), A,3,2)\n",
    "\n",
    "ccall((:print_matrix,\"fica\"),Cvoid,(Ptr{Cvoid},),A)"
   ]
  },
  {
   "cell_type": "code",
   "execution_count": 2,
   "metadata": {},
   "outputs": [],
   "source": [
    "ccall((:matrix_dims,\"fica\"),Cvoid, (Ptr{Cvoid},Ref{Cuintmax_t},Ref{Cuintmax_t}), r,cols.i,lines.i)"
   ]
  },
  {
   "cell_type": "markdown",
   "metadata": {},
   "source": [
    "##Simple test to print matrix"
   ]
  },
  {
   "cell_type": "code",
   "execution_count": 3,
   "metadata": {},
   "outputs": [
    {
     "data": {
      "text/plain": [
       "0"
      ]
     },
     "execution_count": 3,
     "metadata": {},
     "output_type": "execute_result"
    }
   ],
   "source": [
    "lines.i"
   ]
  },
  {
   "cell_type": "code",
   "execution_count": 1,
   "metadata": {},
   "outputs": [
    {
     "name": "stdout",
     "output_type": "stream",
     "text": [
      "\r\n",
      "[3 2 1 1]\r\n",
      "    1.0000     4.0000 \r\n",
      "    2.0000     5.0000 \r\n",
      "    3.0000     6.0000 \r\n",
      "\r\n"
     ]
    }
   ],
   "source": [
    "A = [1.0, 2.0, 3.0, 4.0, 5.0, 6.0]\n",
    "r = ccall((:create_matrix,\"fica\"),Ptr{Cvoid}, (Ptr{Cdouble},Cuintmax_t,Cuintmax_t), A,3,2)\n",
    "ccall((:print_matrix,\"fica\"),Cvoid,(Ptr{Cvoid},),r)"
   ]
  },
  {
   "cell_type": "code",
   "execution_count": 5,
   "metadata": {},
   "outputs": [
    {
     "data": {
      "text/plain": [
       "21.0"
      ]
     },
     "execution_count": 5,
     "metadata": {},
     "output_type": "execute_result"
    }
   ],
   "source": [
    "b = sum(A)"
   ]
  },
  {
   "cell_type": "code",
   "execution_count": 6,
   "metadata": {},
   "outputs": [
    {
     "data": {
      "text/plain": [
       "6-element Array{Float64,1}:\n",
       "  21.0\n",
       "  42.0\n",
       "  63.0\n",
       "  84.0\n",
       " 105.0\n",
       " 126.0"
      ]
     },
     "execution_count": 6,
     "metadata": {},
     "output_type": "execute_result"
    }
   ],
   "source": [
    "b * A"
   ]
  },
  {
   "cell_type": "code",
   "execution_count": 10,
   "metadata": {},
   "outputs": [
    {
     "data": {
      "text/plain": [
       "4-element Array{Float64,1}:\n",
       " 0.18257418583505536\n",
       " 0.3651483716701107 \n",
       " 0.5477225575051661 \n",
       " 0.7302967433402214 "
      ]
     },
     "execution_count": 10,
     "metadata": {},
     "output_type": "execute_result"
    }
   ],
   "source": [
    "using LinearAlgebra\n",
    "\n",
    "\n",
    "normalize!(A)"
   ]
  },
  {
   "cell_type": "code",
   "execution_count": 13,
   "metadata": {},
   "outputs": [
    {
     "data": {
      "text/plain": [
       "4-element Array{Float64,1}:\n",
       " 0.7615941559557649\n",
       " 0.9640275800758169\n",
       " 0.9950547536867305\n",
       " 0.999329299739067 "
      ]
     },
     "execution_count": 13,
     "metadata": {},
     "output_type": "execute_result"
    }
   ],
   "source": [
    "A = [1.0, 2.0, 3.0, 4.0]\n",
    "tanh.(A)"
   ]
  },
  {
   "cell_type": "code",
   "execution_count": 14,
   "metadata": {},
   "outputs": [
    {
     "ename": "UndefVarError",
     "evalue": "UndefVarError: B not defined",
     "output_type": "error",
     "traceback": [
      "UndefVarError: B not defined",
      "",
      "Stacktrace:",
      " [1] top-level scope at In[14]:1"
     ]
    }
   ],
   "source": [
    "sum(A .* B)"
   ]
  },
  {
   "cell_type": "code",
   "execution_count": null,
   "metadata": {},
   "outputs": [],
   "source": [
    "m"
   ]
  }
 ],
 "metadata": {
  "kernelspec": {
   "display_name": "Julia 1.1.1",
   "language": "julia",
   "name": "julia-1.1"
  },
  "language_info": {
   "file_extension": ".jl",
   "mimetype": "application/julia",
   "name": "julia",
   "version": "1.1.1"
  }
 },
 "nbformat": 4,
 "nbformat_minor": 2
}
