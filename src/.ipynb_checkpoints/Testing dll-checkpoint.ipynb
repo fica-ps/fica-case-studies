{
 "cells": [
  {
   "cell_type": "markdown",
   "metadata": {},
   "source": [
    "##This will result in dead kernel!! Testing behavior when error is forced"
   ]
  },
  {
   "cell_type": "code",
   "execution_count": 6,
   "metadata": {},
   "outputs": [
    {
     "ename": "ErrorException",
     "evalue": "error compiling top-level scope: could not load library \"ficaexp\"\n",
     "output_type": "error",
     "traceback": [
      "error compiling top-level scope: could not load library \"ficaexp\"\n",
      ""
     ]
    }
   ],
   "source": [
    "A = [1.0, 2.0, 3.0, 4.0, 5.0, 6.0]\n",
    "r = ccall((:create_matrix,\"fica\"),Ptr{Cvoid}, (Ptr{Cdouble},Cuintmax_t,Cuintmax_t), A,3,2)\n",
    "ccall((:free_matrix,\"fica\"),Cvoid,(Ptr{Cvoid},),r)\n",
    "ccall((:print_matrix,\"fica\"),Cvoid,(Ptr{Cvoid},),r)"
   ]
  },
  {
   "cell_type": "code",
   "execution_count": 1,
   "metadata": {},
   "outputs": [
    {
     "name": "stdout",
     "output_type": "stream",
     "text": [
      "\r\n",
      "[2 3 1 1]\r\n",
      "    1.0000     3.0000     5.0000 \r\n",
      "    2.0000     4.0000     6.0000 \r\n",
      "\r\n"
     ]
    }
   ],
   "source": [
    "A = [1.0, 2.0, 3.0, 4.0, 5.0, 6.0]\n",
    "r = ccall((:create_matrix,\"fica\"),Ptr{Cvoid}, (Ptr{Cdouble},Cuintmax_t,Cuintmax_t), A,3,2)\n",
    "\n",
    "ret_mat = zeros(Float64,6)\n",
    "mutable struct col{Int64} \n",
    "    i::Int64\n",
    "end\n",
    "\n",
    "cols = col(0)\n",
    "lines = col(0)\n",
    "\n",
    "\n",
    "ccall((:print_matrix,\"fica\"),Cvoid,(Ptr{Cvoid},),r)"
   ]
  },
  {
   "cell_type": "code",
   "execution_count": 2,
   "metadata": {},
   "outputs": [],
   "source": [
    "ccall((:matrix_dims,\"fica\"),Cvoid, (Ptr{Cvoid},Ref{Cuintmax_t},Ref{Cuintmax_t}), r,cols.i,lines.i)"
   ]
  },
  {
   "cell_type": "markdown",
   "metadata": {},
   "source": [
    "##Simple test to print matrix"
   ]
  },
  {
   "cell_type": "code",
   "execution_count": 3,
   "metadata": {},
   "outputs": [
    {
     "data": {
      "text/plain": [
       "0"
      ]
     },
     "execution_count": 3,
     "metadata": {},
     "output_type": "execute_result"
    }
   ],
   "source": [
    "lines.i"
   ]
  },
  {
   "cell_type": "code",
   "execution_count": null,
   "metadata": {},
   "outputs": [],
   "source": [
    "A = [1.0, 2.0, 3.0, 4.0, 5.0, 6.0]\n",
    "r = ccall((:create_matrix,\"fica\"),Ptr{Cvoid}, (Ptr{Cdouble},Cuintmax_t,Cuintmax_t), A,3,2)\n",
    "ccall((:print_matrix,\"fica\"),Cvoid,(Ptr{Cvoid},),r)"
   ]
  }
 ],
 "metadata": {
  "kernelspec": {
   "display_name": "Julia 1.1.1",
   "language": "julia",
   "name": "julia-1.1"
  },
  "language_info": {
   "file_extension": ".jl",
   "mimetype": "application/julia",
   "name": "julia",
   "version": "1.1.1"
  }
 },
 "nbformat": 4,
 "nbformat_minor": 2
}
