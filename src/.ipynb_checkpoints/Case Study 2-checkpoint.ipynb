{
 "cells": [
  {
   "cell_type": "code",
   "execution_count": 2,
   "metadata": {},
   "outputs": [
    {
     "ename": "UndefVarError",
     "evalue": "UndefVarError: y not defined",
     "output_type": "error",
     "traceback": [
      "UndefVarError: y not defined",
      "",
      "Stacktrace:",
      " [1] top-level scope at In[2]:6"
     ]
    }
   ],
   "source": [
    "#using Pkg\n",
    "#Pkg.add(\"Plots\")\n",
    "using Plots\n",
    "\n",
    "s1 = sin.((1:1000)./20)\n",
    "plot(s1, linewidth=2, title = \"S1\")"
   ]
  },
  {
   "cell_type": "code",
   "execution_count": 3,
   "metadata": {},
   "outputs": [
    {
     "ename": "UndefVarError",
     "evalue": "UndefVarError: x not defined",
     "output_type": "error",
     "traceback": [
      "UndefVarError: x not defined",
      "",
      "Stacktrace:",
      " [1] top-level scope at In[3]:2"
     ]
    }
   ],
   "source": [
    "s2 = vec(repeat(((1:200).-100)/100, 5))\n",
    "plot(s2,linewidth=2,title=\"S2\")"
   ]
  },
  {
   "cell_type": "code",
   "execution_count": 4,
   "metadata": {},
   "outputs": [
    {
     "data": {
      "text/plain": [
       "1000×2 Array{Float64,2}:\n",
       " -0.634599  -0.578812\n",
       " -0.613534  -0.600355\n",
       " -0.592543  -0.621763\n",
       " -0.571659  -0.642968\n",
       " -0.55092   -0.663903\n",
       " -0.530362  -0.684501\n",
       " -0.510018  -0.704698\n",
       " -0.489923  -0.724429\n",
       " -0.470112  -0.74363 \n",
       " -0.450617  -0.76224 \n",
       " -0.431471  -0.780198\n",
       " -0.412705  -0.797445\n",
       " -0.39435   -0.813925\n",
       "  ⋮                  \n",
       "  0.371709   0.891898\n",
       "  0.3885     0.87834 \n",
       "  0.405796   0.86384 \n",
       "  0.423569   0.848449\n",
       "  0.441791   0.832218\n",
       "  0.460433   0.815202\n",
       "  0.479465   0.797458\n",
       "  0.498855   0.779044\n",
       "  0.518572   0.760019\n",
       "  0.538583   0.740446\n",
       "  0.558853   0.720387\n",
       "  0.579349   0.699906"
      ]
     },
     "execution_count": 4,
     "metadata": {},
     "output_type": "execute_result"
    }
   ],
   "source": [
    "#mixing matrix\n",
    "A = [0.291 -0.5439 ; 0.6557 0.5572]\n",
    "S = hcat(s1,s2)\n",
    "X = S * A"
   ]
  },
  {
   "cell_type": "code",
   "execution_count": null,
   "metadata": {},
   "outputs": [],
   "source": [
    "plot(X[:,1], linewidth=2, title = \"X1\")"
   ]
  },
  {
   "cell_type": "code",
   "execution_count": null,
   "metadata": {},
   "outputs": [],
   "source": [
    "plot(X[:,2], linewidth=2, title = \"X2\")"
   ]
  },
  {
   "cell_type": "code",
   "execution_count": null,
   "metadata": {},
   "outputs": [],
   "source": [
    "include(\"fastICA.jl\")\n",
    "W = fastICA.fast_ica(200,2,Array(X'),0.0001,1.)"
   ]
  },
  {
   "cell_type": "code",
   "execution_count": 97,
   "metadata": {},
   "outputs": [
    {
     "ename": "UndefVarError",
     "evalue": "UndefVarError: K not defined",
     "output_type": "error",
     "traceback": [
      "UndefVarError: K not defined",
      "",
      "Stacktrace:",
      " [1] top-level scope at In[97]:1"
     ]
    }
   ],
   "source": [
    "w = W * K\n",
    "S = w * X"
   ]
  },
  {
   "cell_type": "code",
   "execution_count": null,
   "metadata": {},
   "outputs": [],
   "source": []
  }
 ],
 "metadata": {
  "kernelspec": {
   "display_name": "Julia 1.0.3",
   "language": "julia",
   "name": "julia-1.0"
  },
  "language_info": {
   "file_extension": ".jl",
   "mimetype": "application/julia",
   "name": "julia",
   "version": "1.0.3"
  }
 },
 "nbformat": 4,
 "nbformat_minor": 2
}
