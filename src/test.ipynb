{
 "cells": [
  {
   "cell_type": "code",
   "execution_count": 4,
   "metadata": {},
   "outputs": [
    {
     "name": "stderr",
     "output_type": "stream",
     "text": [
      "WARNING: replacing module fastICA.\n"
     ]
    }
   ],
   "source": [
    "include(\"fastICA.jl\")\n",
    "using LinearAlgebra\n",
    "using Statistics"
   ]
  },
  {
   "cell_type": "code",
   "execution_count": 17,
   "metadata": {},
   "outputs": [
    {
     "data": {
      "text/plain": [
       "2×2 Array{Float64,2}:\n",
       " 0.4     0.3098\n",
       " 0.3098  0.4   "
      ]
     },
     "execution_count": 17,
     "metadata": {},
     "output_type": "execute_result"
    }
   ],
   "source": [
    "A= [40. 10. ; 120. 399. ;50. 300. ]\n",
    "#B = fastICA.eigen_decomposition(A)\n",
    "#A= [40. 10. 50. ; 120. 399. 300.]\n",
    "#corrA = fastICA.correlation_matrix(A)\n",
    "#covA = fastICA.covariance_matrix(corrA) "
   ]
  },
  {
   "cell_type": "code",
   "execution_count": 19,
   "metadata": {},
   "outputs": [
    {
     "data": {
      "text/plain": [
       "2×2 Array{Float64,2}:\n",
       "  0.707107  -0.707107\n",
       " -0.707107  -0.707107"
      ]
     },
     "execution_count": 19,
     "metadata": {},
     "output_type": "execute_result"
    }
   ],
   "source": [
    "#broadcast(+,  eps(0.3), B.values)\n",
    "B.vectors"
   ]
  },
  {
   "cell_type": "code",
   "execution_count": null,
   "metadata": {},
   "outputs": [],
   "source": [
    " eps(0.3)"
   ]
  },
  {
   "cell_type": "markdown",
   "metadata": {},
   "source": [
    "No caso de eigenvalues negativos nao é possivel fazer a raiz de um número sem converter para complexo, como fazer?"
   ]
  },
  {
   "cell_type": "code",
   "execution_count": 14,
   "metadata": {},
   "outputs": [
    {
     "ename": "DimensionMismatch",
     "evalue": "DimensionMismatch(\"A has dimensions (2,2) but B has dimensions (3,2)\")",
     "output_type": "error",
     "traceback": [
      "DimensionMismatch(\"A has dimensions (2,2) but B has dimensions (3,2)\")",
      "",
      "Stacktrace:",
      " [1] gemm_wrapper!(::Array{Float64,2}, ::Char, ::Char, ::Array{Float64,2}, ::Array{Float64,2}) at /buildworker/worker/package_linux64/build/usr/share/julia/stdlib/v1.0/LinearAlgebra/src/matmul.jl:439",
      " [2] mul! at /buildworker/worker/package_linux64/build/usr/share/julia/stdlib/v1.0/LinearAlgebra/src/matmul.jl:144 [inlined]",
      " [3] *(::Array{Float64,2}, ::Array{Float64,2}) at /buildworker/worker/package_linux64/build/usr/share/julia/stdlib/v1.0/LinearAlgebra/src/matmul.jl:142",
      " [4] top-level scope at In[14]:1"
     ]
    }
   ],
   "source": [
    "(sqrt(inv(Diagonal(broadcast(+,  eps(0.3), B.values)))) * B.vectors') * A\n"
   ]
  },
  {
   "cell_type": "code",
   "execution_count": 5,
   "metadata": {},
   "outputs": [
    {
     "ename": "DimensionMismatch",
     "evalue": "DimensionMismatch(\"A has dimensions (3,3) but B has dimensions (2,3)\")",
     "output_type": "error",
     "traceback": [
      "DimensionMismatch(\"A has dimensions (3,3) but B has dimensions (2,3)\")",
      "",
      "Stacktrace:",
      " [1] gemm_wrapper!(::Array{Float64,2}, ::Char, ::Char, ::Array{Float64,2}, ::Array{Float64,2}) at /buildworker/worker/package_linux64/build/usr/share/julia/stdlib/v1.0/LinearAlgebra/src/matmul.jl:439",
      " [2] mul! at /buildworker/worker/package_linux64/build/usr/share/julia/stdlib/v1.0/LinearAlgebra/src/matmul.jl:144 [inlined]",
      " [3] *(::Array{Float64,2}, ::Array{Float64,2}) at /buildworker/worker/package_linux64/build/usr/share/julia/stdlib/v1.0/LinearAlgebra/src/matmul.jl:142",
      " [4] whiten_data(::Array{Float64,2}) at /mnt/juliabox/FICA/src/fastICA.jl:15",
      " [5] top-level scope at In[5]:1"
     ]
    }
   ],
   "source": [
    "fastICA.whiten_data(A)"
   ]
  },
  {
   "cell_type": "code",
   "execution_count": null,
   "metadata": {},
   "outputs": [],
   "source": [
    "(Diagonal(B.values .^ (-1/2)) * B.vectors') * A"
   ]
  },
  {
   "cell_type": "code",
   "execution_count": null,
   "metadata": {},
   "outputs": [],
   "source": [
    "b = Array{Float64,1}\n"
   ]
  },
  {
   "cell_type": "code",
   "execution_count": 13,
   "metadata": {},
   "outputs": [
    {
     "data": {
      "text/plain": [
       "3-element Array{Float64,1}:\n",
       " 0.20388968451427147\n",
       " 0.8359983698777036 \n",
       " 0.6294164427236075 "
      ]
     },
     "execution_count": 13,
     "metadata": {},
     "output_type": "execute_result"
    }
   ],
   "source": [
    " w = rand(3)"
   ]
  },
  {
   "cell_type": "code",
   "execution_count": 5,
   "metadata": {},
   "outputs": [
    {
     "data": {
      "text/plain": [
       "1"
      ]
     },
     "execution_count": 5,
     "metadata": {},
     "output_type": "execute_result"
    }
   ],
   "source": [
    "size(w,2)"
   ]
  },
  {
   "cell_type": "code",
   "execution_count": 15,
   "metadata": {},
   "outputs": [
    {
     "data": {
      "text/plain": [
       "1.0"
      ]
     },
     "execution_count": 15,
     "metadata": {},
     "output_type": "execute_result"
    }
   ],
   "source": [
    "using LinearAlgebra\n",
    "normalize!(w,1);\n",
    "sum(w)"
   ]
  },
  {
   "cell_type": "code",
   "execution_count": 49,
   "metadata": {},
   "outputs": [
    {
     "data": {
      "text/plain": [
       "3×2 Array{Float64,2}:\n",
       " 2.0  1.0\n",
       " 3.0  2.0\n",
       " 4.0  3.0"
      ]
     },
     "execution_count": 49,
     "metadata": {},
     "output_type": "execute_result"
    }
   ],
   "source": [
    "test = [2. 3. 4. ];\n",
    "test1 = [1. 2. 3.];\n",
    "TEST = hcat(test',test1')"
   ]
  },
  {
   "cell_type": "code",
   "execution_count": 17,
   "metadata": {},
   "outputs": [
    {
     "data": {
      "text/plain": [
       "(2, 3)"
      ]
     },
     "execution_count": 17,
     "metadata": {},
     "output_type": "execute_result"
    }
   ],
   "source": [
    "size(test)"
   ]
  },
  {
   "cell_type": "code",
   "execution_count": 60,
   "metadata": {},
   "outputs": [
    {
     "data": {
      "text/plain": [
       "3×1 Array{Float64,2}:\n",
       " 0.5637236678191084\n",
       " 0.9137559297702136\n",
       " 0.9977400075437253"
      ]
     },
     "execution_count": 60,
     "metadata": {},
     "output_type": "execute_result"
    }
   ],
   "source": [
    "test = [ 1 2 4; 3 4 6]\n",
    "w = rand(2)\n",
    "\n",
    "tanh.(w' * test)'.^2\n",
    "\n"
   ]
  },
  {
   "cell_type": "code",
   "execution_count": 62,
   "metadata": {},
   "outputs": [
    {
     "data": {
      "text/plain": [
       "10-element Array{Float64,1}:\n",
       " 1.0\n",
       " 1.0\n",
       " 1.0\n",
       " 1.0\n",
       " 1.0\n",
       " 1.0\n",
       " 1.0\n",
       " 1.0\n",
       " 1.0\n",
       " 1.0"
      ]
     },
     "execution_count": 62,
     "metadata": {},
     "output_type": "execute_result"
    }
   ],
   "source": [
    "ones(10)"
   ]
  },
  {
   "cell_type": "code",
   "execution_count": 66,
   "metadata": {},
   "outputs": [
    {
     "data": {
      "text/plain": [
       "3×2 Array{Float64,2}:\n",
       " 0.0  0.0\n",
       " 0.0  0.0\n",
       " 0.0  0.0"
      ]
     },
     "execution_count": 66,
     "metadata": {},
     "output_type": "execute_result"
    }
   ],
   "source": [
    "m = 3\n",
    "nic = 2 \n",
    " W = zeros(m,nic)"
   ]
  },
  {
   "cell_type": "code",
   "execution_count": 68,
   "metadata": {},
   "outputs": [
    {
     "data": {
      "text/plain": [
       "4×4 Array{Float64,2}:\n",
       " 1.0  0.0  0.0  0.0\n",
       " 0.0  1.0  0.0  0.0\n",
       " 0.0  0.0  1.0  0.0\n",
       " 0.0  0.0  0.0  1.0"
      ]
     },
     "execution_count": 68,
     "metadata": {},
     "output_type": "execute_result"
    }
   ],
   "source": [
    "W = zeros(4,4)\n",
    "for i = 1 : 4\n",
    "    w= view(W,:,i)\n",
    "    w[i] = 1\n",
    "end\n",
    "W"
   ]
  },
  {
   "cell_type": "code",
   "execution_count": 6,
   "metadata": {},
   "outputs": [
    {
     "data": {
      "text/plain": [
       "5-element view(::Array{Float64,2}, :, 1) with eltype Float64:\n",
       " 0.7114112542344158 \n",
       " 0.9769675477432227 \n",
       " 0.38111266304338853\n",
       " 0.20846236460351353\n",
       " 0.5223880282624334 "
      ]
     },
     "execution_count": 6,
     "metadata": {},
     "output_type": "execute_result"
    }
   ],
   "source": [
    "using LinearAlgebra\n",
    "W = rand(5,4)\n",
    "w=view(W, :, 1)\n"
   ]
  },
  {
   "cell_type": "code",
   "execution_count": 20,
   "metadata": {},
   "outputs": [
    {
     "data": {
      "text/plain": [
       "5×4 Array{Float64,2}:\n",
       " 0.711411  0.490437  0.928054  0.288399 \n",
       " 0.976968  0.764116  0.499409  0.854927 \n",
       " 0.381113  0.309512  0.613873  0.308536 \n",
       " 0.208462  0.304537  0.875672  0.0267567\n",
       " 0.522388  0.825009  0.103254  0.929528 "
      ]
     },
     "execution_count": 20,
     "metadata": {},
     "output_type": "execute_result"
    }
   ],
   "source": [
    "Wp = Array{Float64}(undef,5,4)\n",
    "copyto!(Wp,W)"
   ]
  },
  {
   "cell_type": "code",
   "execution_count": 14,
   "metadata": {},
   "outputs": [
    {
     "data": {
      "text/plain": [
       "4×4 Array{Float64,2}:\n",
       " 0.721281  0.765203  0.78602   0.778701\n",
       " 0.765203  0.768417  0.851682  0.774934\n",
       " 0.78602   0.851682  0.664456  0.998295\n",
       " 0.778701  0.774934  0.998295  0.750796"
      ]
     },
     "execution_count": 14,
     "metadata": {},
     "output_type": "execute_result"
    }
   ],
   "source": [
    "(W'*W).^(-1/2)"
   ]
  },
  {
   "cell_type": "code",
   "execution_count": 15,
   "metadata": {},
   "outputs": [
    {
     "data": {
      "text/plain": [
       "1.5186490606462972"
      ]
     },
     "execution_count": 15,
     "metadata": {},
     "output_type": "execute_result"
    }
   ],
   "source": [
    "chg = maximum(abs.(abs.(diag(W*Wp')) .- 1.0))"
   ]
  },
  {
   "cell_type": "code",
   "execution_count": 24,
   "metadata": {},
   "outputs": [
    {
     "ename": "String",
     "evalue": "\"convergence was not possible with iter = 4\"",
     "output_type": "error",
     "traceback": [
      "\"convergence was not possible with iter = 4\"",
      "",
      "Stacktrace:",
      " [1] top-level scope at In[24]:2"
     ]
    }
   ],
   "source": [
    "n = 4\n",
    "throw(\"convergence was not possible with iter = $n\")"
   ]
  },
  {
   "cell_type": "code",
   "execution_count": null,
   "metadata": {},
   "outputs": [],
   "source": []
  },
  {
   "cell_type": "code",
   "execution_count": 12,
   "metadata": {},
   "outputs": [
    {
     "data": {
      "text/plain": [
       "2-element view(::Array{Float64,2}, 1, :) with eltype Float64:\n",
       " 0.8717376891113131 \n",
       " 0.30700670167871347"
      ]
     },
     "execution_count": 12,
     "metadata": {},
     "output_type": "execute_result"
    }
   ],
   "source": [
    "wp = view(W, 1,: )"
   ]
  },
  {
   "cell_type": "code",
   "execution_count": 2,
   "metadata": {},
   "outputs": [
    {
     "data": {
      "text/plain": [
       "1000×2 Array{Float64,2}:\n",
       " 0.775899    0.390476 \n",
       " 0.342513    0.583364 \n",
       " 0.916425    0.190354 \n",
       " 0.928324    0.998609 \n",
       " 0.46516     0.92521  \n",
       " 0.864473    0.493474 \n",
       " 0.109803    0.164155 \n",
       " 0.921858    0.219185 \n",
       " 0.168334    0.160034 \n",
       " 0.55857     0.923152 \n",
       " 0.921453    0.816146 \n",
       " 0.401299    0.594653 \n",
       " 0.384084    0.527737 \n",
       " ⋮                    \n",
       " 0.426978    0.490137 \n",
       " 0.309849    0.686904 \n",
       " 0.23065     0.982    \n",
       " 0.928661    0.768355 \n",
       " 0.991484    0.587469 \n",
       " 0.00833944  0.0257005\n",
       " 0.674762    0.958029 \n",
       " 0.786754    0.715099 \n",
       " 0.881631    0.464265 \n",
       " 0.456773    0.672436 \n",
       " 0.0408609   0.654023 \n",
       " 0.451969    0.557814 "
      ]
     },
     "execution_count": 2,
     "metadata": {},
     "output_type": "execute_result"
    }
   ],
   "source": [
    "A = rand(1000,2)"
   ]
  },
  {
   "cell_type": "code",
   "execution_count": 154,
   "metadata": {},
   "outputs": [],
   "source": [
    "using LinearAlgebra\n",
    "\n",
    "X = rand(1000,3)\n",
    "X = X'\n",
    "n, p = size(X)\n",
    "nic = 3\n",
    "maxiter = 10\n",
    "min(n,p)\n",
    "if(nic > min(n,p))\n",
    "    nic = min(n,p)\n",
    "end\n",
    "W = rand(nic,nic)\n",
    "for i = 1:nic\n",
    "    wp = view(W, i,:,)\n",
    "    wp = normalize!(wp,1)\n",
    "end\n",
    "\n",
    "oldW = zeros(nic,nic)\n",
    "W = sW.U * Diagonal(1./ sW.S) * sW.U' * W\n",
    "\n",
    "t= 0\n",
    "while   t < maxiter\n",
    "    t+=1\n",
    "    #store previous iteration W\n",
    "    copyto!(oldW,W)\n",
    "    \n",
    "    wx = W * X\n",
    "    gwx = tanh.(alpha * wx)\n",
    "    v1 = gwx * X'/p\n",
    "    gdwx = alpha * (1 .- gwx.^2)\n",
    "    v2 = Diagonal(vec(mapslices(mean, gdwx, dims = 2))) * W\n",
    "    W = v1 - v2\n",
    "end"
   ]
  },
  {
   "cell_type": "code",
   "execution_count": 160,
   "metadata": {},
   "outputs": [
    {
     "data": {
      "text/plain": [
       "SVD{Float64,Float64,Array{Float64,2}}([-0.209791 -0.748814 0.628701; 0.952612 -0.0116822 0.303963; -0.220267 0.662677 0.71578], [0.774296, 0.665381, 0.0551352], [0.414825 0.341387 -0.84343; 0.684097 -0.728197 0.0417153; -0.599942 -0.594293 -0.535617])"
      ]
     },
     "execution_count": 160,
     "metadata": {},
     "output_type": "execute_result"
    }
   ],
   "source": [
    "sW1 = svd(W)"
   ]
  },
  {
   "cell_type": "code",
   "execution_count": 170,
   "metadata": {},
   "outputs": [
    {
     "data": {
      "text/plain": [
       "0.00012174894835204064"
      ]
     },
     "execution_count": 170,
     "metadata": {},
     "output_type": "execute_result"
    }
   ],
   "source": [
    " maximum(abs.(abs.(diag(W*oldW')) .- 1.0))"
   ]
  },
  {
   "cell_type": "code",
   "execution_count": 171,
   "metadata": {},
   "outputs": [
    {
     "data": {
      "text/plain": [
       "3×1000 Adjoint{Float64,Array{Float64,2}}:\n",
       " 0.283079  0.385846   0.269417   0.724876  …  0.395015  0.692748  0.737177\n",
       " 0.688194  0.0847093  0.0493721  0.244898     0.692138  0.25064   0.848412\n",
       " 0.750694  0.952654   0.614142   0.243083     0.294745  0.355799  0.461584"
      ]
     },
     "execution_count": 171,
     "metadata": {},
     "output_type": "execute_result"
    }
   ],
   "source": [
    "X = rand(1000,3)\n",
    "X = X'"
   ]
  },
  {
   "cell_type": "code",
   "execution_count": 166,
   "metadata": {},
   "outputs": [
    {
     "data": {
      "text/plain": [
       "3-element Array{Float64,1}:\n",
       "  1.2914952438484508\n",
       "  1.5028977357220625\n",
       " 18.137240799222745 "
      ]
     },
     "execution_count": 166,
     "metadata": {},
     "output_type": "execute_result"
    }
   ],
   "source": [
    "sW = svd(W)\n",
    "S = 1 ./ sW.S\n"
   ]
  },
  {
   "cell_type": "code",
   "execution_count": 127,
   "metadata": {},
   "outputs": [
    {
     "data": {
      "text/plain": [
       "2×2 Diagonal{Float64,Array{Float64,1}}:\n",
       " 1.07049   ⋅     \n",
       "  ⋅       0.63419"
      ]
     },
     "execution_count": 127,
     "metadata": {},
     "output_type": "execute_result"
    }
   ],
   "source": [
    "using LinearAlgebra\n",
    "Diagonal(sW.S)"
   ]
  },
  {
   "cell_type": "code",
   "execution_count": 134,
   "metadata": {},
   "outputs": [
    {
     "data": {
      "text/plain": [
       "2-element Array{Float64,1}:\n",
       " 1.0704913872396833\n",
       " 0.6341898100057347"
      ]
     },
     "execution_count": 134,
     "metadata": {},
     "output_type": "execute_result"
    }
   ],
   "source": [
    "sW.S"
   ]
  },
  {
   "cell_type": "code",
   "execution_count": 167,
   "metadata": {},
   "outputs": [
    {
     "data": {
      "text/plain": [
       "3×3 Diagonal{Float64,Array{Float64,1}}:\n",
       " 1.2915   ⋅        ⋅    \n",
       "  ⋅      1.5029    ⋅    \n",
       "  ⋅       ⋅      18.1372"
      ]
     },
     "execution_count": 167,
     "metadata": {},
     "output_type": "execute_result"
    }
   ],
   "source": [
    "Diagonal(S)"
   ]
  },
  {
   "cell_type": "code",
   "execution_count": 75,
   "metadata": {},
   "outputs": [
    {
     "data": {
      "text/plain": [
       "2×2 Array{Float64,2}:\n",
       " -0.676252   1.69472 \n",
       "  1.67625   -0.694724"
      ]
     },
     "execution_count": 75,
     "metadata": {},
     "output_type": "execute_result"
    }
   ],
   "source": [
    "W = sW.U * Diagonal(S) * sW.U' * W"
   ]
  },
  {
   "cell_type": "code",
   "execution_count": null,
   "metadata": {},
   "outputs": [],
   "source": []
  }
 ],
 "metadata": {
  "kernelspec": {
   "display_name": "Julia 1.0.3",
   "language": "julia",
   "name": "julia-1.0"
  },
  "language_info": {
   "file_extension": ".jl",
   "mimetype": "application/julia",
   "name": "julia",
   "version": "1.0.3"
  }
 },
 "nbformat": 4,
 "nbformat_minor": 2
}
