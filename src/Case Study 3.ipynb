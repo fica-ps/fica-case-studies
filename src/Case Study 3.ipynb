{
 "cells": [
  {
   "cell_type": "markdown",
   "metadata": {},
   "source": [
    "# Case study with mixed audio samples"
   ]
  },
  {
   "cell_type": "code",
   "execution_count": 1,
   "metadata": {},
   "outputs": [],
   "source": [
    "#must run once to add WAV package\n",
    "#using Pkg\n",
    "#Pkg.add(\"WAV\")"
   ]
  },
  {
   "cell_type": "code",
   "execution_count": 2,
   "metadata": {},
   "outputs": [],
   "source": [
    "include(\"fastICA.jl\")\n",
    "using WAV"
   ]
  },
  {
   "cell_type": "markdown",
   "metadata": {},
   "source": [
    "## Load the test audio samples"
   ]
  },
  {
   "cell_type": "code",
   "execution_count": 3,
   "metadata": {},
   "outputs": [
    {
     "data": {
      "text/plain": [
       "([0.0 0.0; 0.0 0.0; … ; -0.0227973 -0.0446181; -0.0218513 -0.0432752], 44100.0f0, 0x0010, WAVChunk[WAVChunk(Symbol(\"fmt \"), UInt8[0x10, 0x00, 0x00, 0x00, 0x01, 0x00, 0x02, 0x00, 0x44, 0xac, 0x00, 0x00, 0x10, 0xb1, 0x02, 0x00, 0x04, 0x00, 0x10, 0x00]), WAVChunk(:LIST, UInt8[0x49, 0x4e, 0x46, 0x4f, 0x49, 0x53, 0x46, 0x54, 0x0e, 0x00  …  0x35, 0x38, 0x2e, 0x31, 0x32, 0x2e, 0x31, 0x30, 0x30, 0x00])])"
      ]
     },
     "execution_count": 3,
     "metadata": {},
     "output_type": "execute_result"
    }
   ],
   "source": [
    "y1, fs1 = wavread(\"sound1.wav\")\n",
    "y2, fs2 = wavread(\"sound2.wav\")\n",
    "\n"
   ]
  },
  {
   "cell_type": "code",
   "execution_count": 4,
   "metadata": {},
   "outputs": [
    {
     "name": "stderr",
     "output_type": "stream",
     "text": [
      "┌ Warning: wavplay is not currently implemented on NT\n",
      "└ @ WAV C:\\Users\\leonw\\.juliapro\\JuliaPro_v1.1.1.1\\packages\\WAV\\uORV0\\src\\WAV.jl:26\n"
     ]
    }
   ],
   "source": [
    "#wavplay does not work in Windows systems!\n",
    "wavplay(y1,fs1)\n"
   ]
  },
  {
   "cell_type": "code",
   "execution_count": 5,
   "metadata": {},
   "outputs": [
    {
     "name": "stderr",
     "output_type": "stream",
     "text": [
      "┌ Warning: wavplay is not currently implemented on NT\n",
      "└ @ WAV C:\\Users\\leonw\\.juliapro\\JuliaPro_v1.1.1.1\\packages\\WAV\\uORV0\\src\\WAV.jl:26\n"
     ]
    }
   ],
   "source": [
    "wavplay(y2,fs2)"
   ]
  },
  {
   "cell_type": "markdown",
   "metadata": {},
   "source": [
    "## Mix the two audio samples so we can apply the FastICA algorithm"
   ]
  },
  {
   "cell_type": "code",
   "execution_count": 6,
   "metadata": {},
   "outputs": [],
   "source": [
    "mix1 = y1 + y2 * 0.6\n",
    "mix2 = y2 + y1 * 0.6 \n",
    "\n",
    "wavwrite(mix1, \"mix1.wav\", Fs = fs1)\n",
    "wavwrite(mix2, \"mix2.wav\", Fs = fs2)\n",
    "\n",
    "mixed_signal = hcat(mix1,mix2);"
   ]
  },
  {
   "cell_type": "code",
   "execution_count": 7,
   "metadata": {},
   "outputs": [
    {
     "name": "stderr",
     "output_type": "stream",
     "text": [
      "┌ Warning: wavplay is not currently implemented on NT\n",
      "└ @ WAV C:\\Users\\leonw\\.juliapro\\JuliaPro_v1.1.1.1\\packages\\WAV\\uORV0\\src\\WAV.jl:26\n"
     ]
    }
   ],
   "source": [
    "#wavplay does not work in Windows systems!\n",
    "wavplay(mix1,fs1)\n"
   ]
  },
  {
   "cell_type": "code",
   "execution_count": 8,
   "metadata": {},
   "outputs": [
    {
     "name": "stderr",
     "output_type": "stream",
     "text": [
      "┌ Warning: wavplay is not currently implemented on NT\n",
      "└ @ WAV C:\\Users\\leonw\\.juliapro\\JuliaPro_v1.1.1.1\\packages\\WAV\\uORV0\\src\\WAV.jl:26\n"
     ]
    }
   ],
   "source": [
    "wavplay(mix2,fs2)"
   ]
  },
  {
   "cell_type": "markdown",
   "metadata": {},
   "source": [
    "## Applying fastICA to a 5 second sample\n",
    "### Results are saved in the 5sec folder"
   ]
  },
  {
   "cell_type": "code",
   "execution_count": 9,
   "metadata": {},
   "outputs": [
    {
     "name": "stdout",
     "output_type": "stream",
     "text": [
      "Random matrix = [-0.581364 -0.187101 -1.32518 1.4798; 0.140347 0.927218 0.350606 -0.637753; 0.117889 -0.0328593 0.31642 0.574736; 1.09344 0.939884 -1.31531 -1.83445]\n",
      "Component n 1\n",
      "iter = 1\n",
      "[-0.164326, -0.346688, -0.348755, 1.44893]\n",
      "Tolerance change for iter 1 = 0.25536784867978846\n",
      "iter = 2\n",
      "[0.00192441, -0.482374, -0.0233138, 1.61108]\n",
      "Tolerance change for iter 2 = 0.0021143073744537277\n",
      "iter = 3\n",
      "[0.0259549, -0.509972, -0.00302407, 1.60395]\n",
      "Tolerance change for iter 3 = 7.497177731075055e-5\n",
      "Component n 2\n",
      "iter = 1\n",
      "[0.121753, 0.753791, 0.320786, 0.217573]\n",
      "Tolerance change for iter 1 = 0.032434052718099404\n",
      "iter = 2\n",
      "[0.0296238, 0.81429, 0.18722, 0.244489]\n",
      "Tolerance change for iter 2 = 0.006748988648403786\n",
      "iter = 3\n",
      "[0.00276933, 0.829725, 0.110759, 0.252264]\n",
      "Tolerance change for iter 3 = 0.002020527545536499\n",
      "iter = 4\n",
      "[0.000475809, 0.835051, 0.0633755, 0.254813]\n",
      "Tolerance change for iter 4 = 0.0008781004128842751\n",
      "iter = 5\n",
      "[0.00667503, 0.837191, 0.0312437, 0.255556]\n",
      "Tolerance change for iter 5 = 0.0004804622960214999\n",
      "iter = 6\n",
      "[0.0150061, 0.837976, 0.00800062, 0.255592]\n",
      "Tolerance change for iter 6 = 0.000288437254097329\n",
      "iter = 7\n",
      "[0.0230512, 0.838097, -0.00948185, 0.255352]\n",
      "Tolerance change for iter 7 = 0.00017781651193482517\n",
      "iter = 8\n",
      "[0.0300142, 0.83789, -0.0229016, 0.255022]\n",
      "Tolerance change for iter 8 = 0.0001098856155942185\n",
      "iter = 9\n",
      "[0.0357479, 0.837542, -0.0332944, 0.254687]\n",
      "Tolerance change for iter 9 = 6.75350209881076e-5\n",
      "Component n 3\n",
      "iter = 1\n",
      "[0.210241, 0.038673, 0.697043, -0.00980454]\n",
      "Tolerance change for iter 1 = 0.0024228037793152524\n",
      "iter = 2\n",
      "[0.167331, 0.0409917, 0.706929, -0.00622001]\n",
      "Tolerance change for iter 2 = 0.0004191673068000279\n",
      "iter = 3\n",
      "[0.149211, 0.0419469, 0.710016, -0.00474394]\n",
      "Tolerance change for iter 3 = 7.0481407174805e-5\n",
      "Component n 4\n",
      "iter = 1\n",
      "[0.724106, -0.0266977, -0.179416, -0.0425491]\n",
      "Tolerance change for iter 1 = 0.0\n",
      "retW = [0.0166976 -0.305765 -0.00118921 0.95196; 0.0444606 0.950469 -0.0440691 0.304451; 0.195686 0.0335433 0.980055 0.00856589; 0.979516 -0.0446311 -0.193773 -0.0317583]\n"
     ]
    }
   ],
   "source": [
    "#Test for 5 sec sample\n",
    "\n",
    "nsamples,_ = size(mixed_signal)\n",
    "n = round(Int64,(nsamples/12)) # (nsamples / 12) first 5 seconds samples\n",
    "mixed_5sec = mixed_signal[1:n, 1:4]\n",
    "\n",
    "\n",
    "W = fastICA.whiten(mixed_5sec)\n",
    "X1 = mixed_signal * W'\n",
    "a = fastICA.fast_ica(200,4,Array(X1'),0.0001, 1.)\n",
    "K = a * W\n",
    "S = K * mixed_5sec';\n",
    "#Results for 5 seconds\n",
    "curr = pwd()\n",
    "dir = string(curr,\"\\\\\",\"5sec\")\n",
    "s1 = hcat(S[1,:,], S[2,:,])\n",
    "s2 = hcat(S[3,:,], S[4,:,])\n",
    "wavwrite(s2, string(dir,\"\\\\\",\"result2.wav\"), Fs = fs2)\n",
    "wavwrite(s1, string(dir,\"\\\\\",\"result1.wav\"), Fs = fs1)\n",
    "#wavwrite(S[1,:,], string(dir,\"\\\\\",\"left1.wav\"), Fs = fs2)\n",
    "#wavwrite(S[2,:,], string(dir,\"\\\\\",\"right1.wav\"), Fs = fs1)\n",
    "#wavwrite(S[3,:,],string(dir,\"\\\\\",\"left2.wav\"), Fs = fs1)\n",
    "#wavwrite(S[4,:,], string(dir,\"\\\\\",\"right2.wav\"), Fs = fs1)"
   ]
  },
  {
   "cell_type": "markdown",
   "metadata": {},
   "source": [
    "## Applying fastICA to a 15 second sample\n",
    "### Results are saved in the 15sec folder"
   ]
  },
  {
   "cell_type": "code",
   "execution_count": 10,
   "metadata": {},
   "outputs": [
    {
     "name": "stdout",
     "output_type": "stream",
     "text": [
      "Random matrix = [-1.19873 -0.225032 -0.981316 0.552653; -0.0827639 0.1113 0.0430176 -0.933192; 0.448737 -1.00772 0.489374 -0.0775514; 0.840482 0.2887 0.118587 -0.421202]\n",
      "Component n 1\n",
      "iter = 1\n",
      "[-0.453252, -0.0867264, -0.307371, 0.264738]\n",
      "Tolerance change for iter 1 = 0.7033802536848046\n",
      "iter = 2\n",
      "[0.0108074, 0.0272969, 0.455966, 0.515139]\n",
      "Tolerance change for iter 2 = 0.5461741199294073\n",
      "iter = 3\n",
      "[-0.0861736, 0.211503, -0.0736873, 0.725686]\n",
      "Tolerance change for iter 3 = 0.06792100236058085\n",
      "iter = 4\n",
      "[0.035715, 0.314246, 0.0554491, 0.712669]\n",
      "Tolerance change for iter 4 = 0.0014494707419790975\n",
      "iter = 5\n",
      "[0.0414019, 0.29069, 0.0401064, 0.722442]\n",
      "Tolerance change for iter 5 = 1.4311012722201255e-5\n",
      "iter = 6\n",
      "[0.0445529, 0.291091, 0.0395812, 0.72215]\n",
      "Tolerance change for iter 6 = 6.459667808433878e-7\n",
      "Component n 2\n",
      "iter = 1\n",
      "[-0.0633265, 0.698581, 0.0875331, -0.196279]\n",
      "Tolerance change for iter 1 = 0.07644997934805853\n",
      "iter = 2\n",
      "[-0.104938, 0.69962, -0.129775, -0.185422]\n",
      "Tolerance change for iter 2 = 0.0067513250472004405\n",
      "iter = 3\n",
      "[-0.060993, 0.709826, -0.0841381, -0.190898]\n",
      "Tolerance change for iter 3 = 0.0009119540832277506\n",
      "iter = 4\n",
      "[-0.0639899, 0.707142, -0.107602, -0.189332]\n",
      "Tolerance change for iter 4 = 0.0001150224189675475\n",
      "iter = 5\n",
      "[-0.0580167, 0.708221, -0.101728, -0.190008]\n",
      "Tolerance change for iter 5 = 1.5169677351156707e-5\n",
      "iter = 6\n",
      "[-0.0582438, 0.707844, -0.104776, -0.189808]\n",
      "Tolerance change for iter 6 = 1.9861459756853606e-6\n",
      "iter = 7\n",
      "[-0.0574147, 0.70798, -0.10404, -0.189896]\n",
      "Tolerance change for iter 7 = 2.621194339358368e-7\n",
      "Component n 3\n",
      "iter = 1\n",
      "[0.45653, 0.0901925, 0.360021, -0.0863078]\n",
      "Tolerance change for iter 1 = 0.26978655216403946\n",
      "iter = 2\n",
      "[0.0128929, -0.0827734, -0.586968, 0.0723542]\n",
      "Tolerance change for iter 2 = 0.3091066123192858\n",
      "iter = 3\n",
      "[0.482264, 0.0889128, 0.336016, -0.0858637]\n",
      "Tolerance change for iter 3 = 0.3779372553221053\n",
      "iter = 4\n",
      "[0.0675949, -0.078733, -0.593546, 0.0681412]\n",
      "Tolerance change for iter 4 = 0.5217835755824307\n",
      "iter = 5\n",
      "[0.548528, 0.0837326, 0.258924, -0.0832237]\n",
      "Tolerance change for iter 5 = 0.8894562461392013\n",
      "iter = 6\n",
      "[0.27705, -0.0549958, -0.564529, 0.0443142]\n",
      "Tolerance change for iter 6 = 0.1718900597109534\n",
      "iter = 7\n",
      "[0.538297, 0.00281845, -0.338062, -0.0128874]\n",
      "Tolerance change for iter 7 = 0.0009566903082882661\n",
      "iter = 8\n",
      "[0.5529, 0.00759438, -0.313475, -0.0175427]\n",
      "Tolerance change for iter 8 = 0.00397343321246435\n",
      "iter = 9\n",
      "[0.579444, 0.0172058, -0.261441, -0.0268285]\n",
      "Tolerance change for iter 9 = 0.01584071710096524\n",
      "iter = 10\n",
      "[0.617756, 0.0352376, -0.15393, -0.0438415]\n",
      "Tolerance change for iter 10 = 0.02885554436593485\n",
      "iter = 11\n",
      "[0.636206, 0.055508, -0.0125492, -0.0618415]\n",
      "Tolerance change for iter 11 = 0.00013865086412823135\n",
      "iter = 12\n",
      "[0.636094, 0.0567182, -0.00319282, -0.0628627]\n",
      "Tolerance change for iter 12 = 6.3305615627951e-5\n",
      "iter = 13\n",
      "[0.636189, 0.0559031, -0.00950812, -0.0621756]\n",
      "Tolerance change for iter 13 = 3.0272165604361412e-5\n",
      "iter = 14\n",
      "[0.636132, 0.0564679, -0.00513796, -0.0626521]\n",
      "Tolerance change for iter 14 = 1.4052261287589296e-5\n",
      "iter = 15\n",
      "[0.636175, 0.0560837, -0.00811395, -0.0623281]\n",
      "Tolerance change for iter 15 = 6.6628698407456e-6\n",
      "iter = 16\n",
      "[0.636147, 0.0563485, -0.00606405, -0.0625515]\n",
      "Tolerance change for iter 16 = 3.1148994379393002e-6\n",
      "iter = 17\n",
      "[0.636167, 0.0561675, -0.00746533, -0.0623989]\n",
      "Tolerance change for iter 17 = 1.470669133030178e-6\n",
      "iter = 18\n",
      "[0.636154, 0.056292, -0.00650232, -0.0625038]\n",
      "Tolerance change for iter 18 = 6.897399686955907e-7\n",
      "Component n 4\n",
      "iter = 1\n",
      "[-0.0520645, 0.0799582, 0.592188, -0.0694093]\n",
      "Tolerance change for iter 1 = 0.0\n",
      "retW = [0.0577818 0.372596 0.050356 0.924823; -0.0840412 0.91869 -0.146928 -0.356874; 0.994744 0.0570571 -0.00626157 -0.0847967; 0.00914011 -0.118011 -0.987845 0.100761]\n"
     ]
    }
   ],
   "source": [
    "#Test for 15 sec sample\n",
    "\n",
    "\n",
    "\n",
    "nsamples,_ = size(mixed_signal)\n",
    "n = round(Int64,(nsamples/4)) # (nsamples / 4) first 15 seconds samples\n",
    "mixed_15sec = mixed_signal[1:n, 1:4]\n",
    "\n",
    "\n",
    "W = fastICA.whiten(mixed_15sec)\n",
    "X1 = mixed_signal * W'\n",
    "a = fastICA.fast_ica(200,4,Array(X1'),0.000001, 1.)\n",
    "K = a * W\n",
    "S = K * mixed_15sec';\n",
    "#Results for 5 seconds\n",
    "s1 = hcat(S[1,:,], S[2,:,])\n",
    "s2 = hcat(S[3,:,], S[4,:,])\n",
    "curr = pwd()\n",
    "dir = string(curr,\"\\\\\",\"15sec\")\n",
    "wavwrite(s2, string(dir,\"\\\\\",\"result2.wav\"), Fs = fs2)\n",
    "wavwrite(s1, string(dir,\"\\\\\",\"result1.wav\"), Fs = fs1)\n",
    "#wavwrite(S[1,:,], string(dir,\"\\\\\",\"left1.wav\"), Fs = fs2)\n",
    "#wavwrite(S[2,:,], string(dir,\"\\\\\",\"right1.wav\"), Fs = fs1)\n",
    "#wavwrite(S[3,:,],string(dir,\"\\\\\",\"left2.wav\"), Fs = fs1)\n",
    "#wavwrite(S[4,:,], string(dir,\"\\\\\",\"right2.wav\"), Fs = fs1)\n"
   ]
  },
  {
   "cell_type": "markdown",
   "metadata": {},
   "source": [
    "## Applying fastICA to a 1 minute sample\n",
    "### Results are saved in the min folder"
   ]
  },
  {
   "cell_type": "code",
   "execution_count": 12,
   "metadata": {
    "scrolled": true
   },
   "outputs": [
    {
     "name": "stdout",
     "output_type": "stream",
     "text": [
      "Random matrix = [-0.961064 -1.39923 -0.548748 2.20603; -0.072282 0.120569 0.578469 -0.348058; 0.211448 -0.225194 1.37509 0.116837; 0.00403291 0.142343 1.21925 0.835459]\n",
      "Component n 1\n",
      "Tolerance change for iter 1 = 0.040167904878670724\n",
      "Tolerance change for iter 2 = 0.0048292151463027455\n",
      "Tolerance change for iter 3 = 0.0010086616346449695\n",
      "Tolerance change for iter 4 = 0.0001950315044139117\n",
      "Tolerance change for iter 5 = 3.7504792068210335e-5\n",
      "Component n 2\n",
      "Tolerance change for iter 1 = 0.12313422484666037\n",
      "Tolerance change for iter 2 = 0.0064058569370119\n",
      "Tolerance change for iter 3 = 1.3840590204150516e-5\n",
      "Component n 3\n",
      "Tolerance change for iter 1 = 0.00892887510002005\n",
      "Tolerance change for iter 2 = 0.029895763857442637\n",
      "Tolerance change for iter 3 = 0.06302878722811223\n",
      "Tolerance change for iter 4 = 0.052579195499538045\n",
      "Tolerance change for iter 5 = 0.01443573522421504\n",
      "Tolerance change for iter 6 = 0.0010636688923320037\n",
      "Tolerance change for iter 7 = 4.114500461238624e-5\n",
      "Component n 4\n",
      "Tolerance change for iter 1 = 0.0\n",
      "retW = [-0.0094551 0.589084 -0.0072896 -0.807984; -0.453918 0.00857525 -0.890786 0.0196005; 0.0828017 0.805447 -0.0215354 0.58646; 0.887137 -0.064511 -0.453853 -0.0533203]\n"
     ]
    }
   ],
   "source": [
    "#results for 1 min\n",
    "\n",
    "\n",
    "#forced weights\n",
    "\n",
    "W = fastICA.whiten(mixed_signal)\n",
    "X1 = mixed_signal * W'\n",
    "a = fastICA.fast_ica(200,4,Array(X1'),0.0001, 1.)\n",
    "K = a * W\n",
    "S = K * mixed_signal';\n",
    "s1 = hcat(S[2,:,], S[4,:,])\n",
    "s2 = hcat(S[1,:,], S[3,:,])\n",
    "curr = pwd()\n",
    "dir = string(curr,\"\\\\\",min)\n",
    "wavwrite(s2, string(dir,\"\\\\\",\"result2.wav\"), Fs = fs2)\n",
    "wavwrite(s1, string(dir,\"\\\\\",\"result1.wav\"), Fs = fs1)\n",
    "#wavwrite(S[1,:,], string(dir,\"\\\\\",\"left1.wav\"), Fs = fs2)\n",
    "#wavwrite(S[2,:,], string(dir,\"\\\\\",\"right1.wav\"), Fs = fs1)\n",
    "#wavwrite(S[3,:,],string(dir,\"\\\\\",\"left2.wav\"), Fs = fs1)\n",
    "#wavwrite(S[4,:,], string(dir,\"\\\\\",\"right2.wav\"), Fs = fs1)"
   ]
  },
  {
   "cell_type": "code",
   "execution_count": 1,
   "metadata": {},
   "outputs": [
    {
     "data": {
      "text/plain": [
       "mserror (generic function with 1 method)"
      ]
     },
     "execution_count": 1,
     "metadata": {},
     "output_type": "execute_result"
    }
   ],
   "source": [
    "function normalize_audio(sample,size)\n",
    "    minv = minimum(sample)\n",
    "    maxv = maximum(sample)\n",
    "    for i = 1:size\n",
    "        sample[i] = (sample[i] - minv)/(maxv - minv)\n",
    "    end\n",
    "end\n",
    "\n",
    "function mserror(A,B,width) sum = 0.0\n",
    "    for x = 1:width\n",
    "          difference = (A[x] - B[x])\n",
    "          sum = sum + difference * difference\n",
    "    end\n",
    "    mse = sum /(width)\n",
    "    println(\"The mean square error is $mse\")\n",
    "    return mse\n",
    "end     "
   ]
  },
  {
   "cell_type": "markdown",
   "metadata": {},
   "source": [
    "## Normalize original and results so MSE can be applied"
   ]
  },
  {
   "cell_type": "code",
   "execution_count": 22,
   "metadata": {},
   "outputs": [],
   "source": [
    "#normalize original samples and results\n",
    "\n",
    "og1 = vec(y1)\n",
    "\n",
    "og2 = vec(y2)\n",
    "\n",
    "res1 = vec(s1)\n",
    "res2 = vec(s2)\n",
    "\n",
    "s = size(og1)\n",
    "\n",
    "nog1 = normalize_audio(og1,s[1])\n",
    "nog2 = normalize_audio(og2,s[1])\n",
    "\n",
    "nres1 = normalize_audio(res1,s[1])\n",
    "nres2 = normalize_audio(res2,s[1])\n"
   ]
  },
  {
   "cell_type": "markdown",
   "metadata": {},
   "source": [
    "## Using MSE to compare our results with the original image"
   ]
  },
  {
   "cell_type": "code",
   "execution_count": 40,
   "metadata": {},
   "outputs": [
    {
     "name": "stdout",
     "output_type": "stream",
     "text": [
      "The mean square error is 0.029182868907675807\n"
     ]
    },
    {
     "data": {
      "text/plain": [
       "2.9182868907675807"
      ]
     },
     "execution_count": 40,
     "metadata": {},
     "output_type": "execute_result"
    }
   ],
   "source": [
    "mserror(og1,res2,s[1])*100"
   ]
  },
  {
   "cell_type": "code",
   "execution_count": 41,
   "metadata": {},
   "outputs": [
    {
     "name": "stdout",
     "output_type": "stream",
     "text": [
      "The mean square error is 0.004364755631106922\n"
     ]
    },
    {
     "data": {
      "text/plain": [
       "0.43647556311069213"
      ]
     },
     "execution_count": 41,
     "metadata": {},
     "output_type": "execute_result"
    }
   ],
   "source": [
    "mserror(og2,res1,s[1])*100"
   ]
  }
 ],
 "metadata": {
  "kernelspec": {
   "display_name": "Julia 1.1.1",
   "language": "julia",
   "name": "julia-1.1"
  },
  "language_info": {
   "file_extension": ".jl",
   "mimetype": "application/julia",
   "name": "julia",
   "version": "1.1.1"
  }
 },
 "nbformat": 4,
 "nbformat_minor": 2
}
