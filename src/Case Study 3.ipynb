{
 "cells": [
  {
   "cell_type": "markdown",
   "metadata": {},
   "source": [
    "https://www.bensound.com/\n",
    "https://www.online-convert.com/result/a7e7146b-5b18-4340-8f51-50b16f8acb2e\n",
    "https://www.aconvert.com/audio/split/"
   ]
  },
  {
   "cell_type": "code",
   "execution_count": 62,
   "metadata": {},
   "outputs": [],
   "source": [
    "#must run once to add WAV package\n",
    "#using Pkg\n",
    "#Pkg.add(WAV)"
   ]
  },
  {
   "cell_type": "code",
   "execution_count": 18,
   "metadata": {},
   "outputs": [
    {
     "name": "stderr",
     "output_type": "stream",
     "text": [
      "┌ Info: Precompiling AudioIO [67a87ac7-5706-59f5-9189-3507e0192122]\n",
      "└ @ Base loading.jl:1186\n",
      "ERROR: LoadError: syntax: extra token \"AudioSample\" after end of expression\n",
      "Stacktrace:\n",
      " [1] include at .\\boot.jl:326 [inlined]\n",
      " [2] include_relative(::Module, ::String) at .\\loading.jl:1038\n",
      " [3] include(::Module, ::String) at .\\sysimg.jl:29\n",
      " [4] top-level scope at none:2\n",
      " [5] eval at .\\boot.jl:328 [inlined]\n",
      " [6] eval(::Expr) at .\\client.jl:404\n",
      " [7] top-level scope at .\\none:3\n",
      "in expression starting at C:\\Users\\leonw\\.juliapro\\JuliaPro_v1.1.1.1\\dev\\AudioIO\\src\\AudioIO.jl:11\n"
     ]
    },
    {
     "ename": "ErrorException",
     "evalue": "Failed to precompile AudioIO [67a87ac7-5706-59f5-9189-3507e0192122] to C:\\Users\\leonw\\.juliapro\\JuliaPro_v1.1.1.1\\compiled\\v1.1\\AudioIO\\G3R5K.ji.",
     "output_type": "error",
     "traceback": [
      "Failed to precompile AudioIO [67a87ac7-5706-59f5-9189-3507e0192122] to C:\\Users\\leonw\\.juliapro\\JuliaPro_v1.1.1.1\\compiled\\v1.1\\AudioIO\\G3R5K.ji.",
      "",
      "Stacktrace:",
      " [1] error(::String) at .\\error.jl:33",
      " [2] compilecache(::Base.PkgId, ::String) at .\\loading.jl:1197",
      " [3] _require(::Base.PkgId) at .\\loading.jl:960",
      " [4] require(::Base.PkgId) at .\\loading.jl:858",
      " [5] require(::Module, ::Symbol) at .\\loading.jl:853",
      " [6] top-level scope at In[18]:2"
     ]
    }
   ],
   "source": [
    "using WAV"
   ]
  },
  {
   "cell_type": "code",
   "execution_count": 63,
   "metadata": {},
   "outputs": [
    {
     "data": {
      "text/plain": [
       "([0.0 0.0; 0.0 0.0; … ; -0.0227973 -0.0446181; -0.0218513 -0.0432752], 44100.0f0, 0x0010, WAVChunk[WAVChunk(Symbol(\"fmt \"), UInt8[0x10, 0x00, 0x00, 0x00, 0x01, 0x00, 0x02, 0x00, 0x44, 0xac, 0x00, 0x00, 0x10, 0xb1, 0x02, 0x00, 0x04, 0x00, 0x10, 0x00]), WAVChunk(:LIST, UInt8[0x49, 0x4e, 0x46, 0x4f, 0x49, 0x53, 0x46, 0x54, 0x0e, 0x00  …  0x35, 0x38, 0x2e, 0x31, 0x32, 0x2e, 0x31, 0x30, 0x30, 0x00])])"
      ]
     },
     "execution_count": 63,
     "metadata": {},
     "output_type": "execute_result"
    }
   ],
   "source": [
    "y1, fs1 = wavread(\"sound1.wav\")\n",
    "y2, fs2 = wavread(\"sound2.wav\")\n",
    "\n"
   ]
  },
  {
   "cell_type": "code",
   "execution_count": null,
   "metadata": {},
   "outputs": [],
   "source": [
    "#wavplay does not work in Windows systems!\n",
    "wavplay(y1,fs1)\n"
   ]
  },
  {
   "cell_type": "code",
   "execution_count": null,
   "metadata": {},
   "outputs": [],
   "source": [
    "wavplay(y2,fs2)"
   ]
  },
  {
   "cell_type": "code",
   "execution_count": 64,
   "metadata": {},
   "outputs": [],
   "source": [
    "mix1 = y1 + y2 * 0.6\n",
    "mix2 = y2 + y1 * 0.6 \n",
    "\n",
    "wavwrite(mix1, \"mix1.wav\", Fs = fs1)\n",
    "wavwrite(mix2, \"mix2.wav\", Fs = fs2)\n",
    "\n",
    "mixed_signal = hcat(mix1,mix2);"
   ]
  },
  {
   "cell_type": "code",
   "execution_count": null,
   "metadata": {},
   "outputs": [],
   "source": [
    "#wavplay does not work in Windows systems!\n",
    "wavplay(mix1,fs1)\n"
   ]
  },
  {
   "cell_type": "code",
   "execution_count": null,
   "metadata": {},
   "outputs": [],
   "source": [
    "wavplay(mix2,fs2)"
   ]
  },
  {
   "cell_type": "code",
   "execution_count": 75,
   "metadata": {},
   "outputs": [
    {
     "name": "stdout",
     "output_type": "stream",
     "text": [
      "Random matrix = [-0.597174 -0.577479 0.32453 -1.3799; 1.93041 -1.858 -0.89212 0.870539; 0.52171 0.507839 -1.43454 1.58525; 0.781584 -0.821833 0.578385 -1.14395]\n"
     ]
    },
    {
     "name": "stderr",
     "output_type": "stream",
     "text": [
      "WARNING: replacing module fastICA.\n"
     ]
    },
    {
     "name": "stdout",
     "output_type": "stream",
     "text": [
      "Tolerance change for iter 1 = 0.032168533532267896\n",
      "Tolerance change for iter 2 = 0.024867480420157517\n",
      "Tolerance change for iter 3 = 0.07037457574830575\n",
      "Tolerance change for iter 4 = 0.04691305623457054\n",
      "Tolerance change for iter 5 = 0.002405627387114473\n",
      "Tolerance change for iter 6 = 4.988195355215552e-6\n",
      "retW = [-0.0125647 0.589002 -0.0135047 -0.807921; 0.0 0.0 0.0 0.0; 0.0 0.0 0.0 0.0; 0.0 0.0 0.0 0.0]\n",
      "Tolerance change for iter 1 = 0.010925282247173373\n",
      "Tolerance change for iter 2 = 0.029799864154264055\n",
      "Tolerance change for iter 3 = 0.06928138844901366\n",
      "Tolerance change for iter 4 = 0.052173435939474544\n",
      "Tolerance change for iter 5 = 0.005437776739772748\n",
      "Tolerance change for iter 6 = 0.0001743668435405521\n",
      "Tolerance change for iter 7 = 5.7931879009487375e-6\n",
      "retW = [-0.0125647 0.589002 -0.0135047 -0.807921; 0.0798672 0.805722 -0.0210404 0.586508; 0.0 0.0 0.0 0.0; 0.0 0.0 0.0 0.0]\n",
      "Tolerance change for iter 1 = 0.142085048816593\n",
      "Tolerance change for iter 2 = 0.021420151256982156\n",
      "Tolerance change for iter 3 = 1.4476731868828807e-7\n",
      "retW = [-0.0125647 0.589002 -0.0135047 -0.807921; 0.0798672 0.805722 -0.0210404 0.586508; 0.453933 -0.00376352 0.890685 -0.0246914; 0.0 0.0 0.0 0.0]\n",
      "Tolerance change for iter 1 = 2.220446049250313e-16\n",
      "retW = [-0.0125647 0.589002 -0.0135047 -0.807921; 0.0798672 0.805722 -0.0210404 0.586508; 0.453933 -0.00376352 0.890685 -0.0246914; -0.88736 0.062254 0.453932 0.0515977]\n"
     ]
    }
   ],
   "source": [
    "include(\"fastICA.jl\")\n",
    "\n",
    "#forced weights\n",
    "\n",
    "W = fastICA.whiten(mixed_signal)\n",
    "X1 = mixed_signal * W'\n",
    "a = fastICA.fast_ica(200,4,Array(X1'),0.0001, 1.)\n",
    "K = a * W\n",
    "S = K * mixed_signal';"
   ]
  },
  {
   "cell_type": "code",
   "execution_count": 76,
   "metadata": {},
   "outputs": [
    {
     "ename": "SystemError",
     "evalue": "SystemError: opening file \"result1.wav\": Invalid argument",
     "output_type": "error",
     "traceback": [
      "SystemError: opening file \"result1.wav\": Invalid argument",
      "",
      "Stacktrace:",
      " [1] #systemerror#43(::Nothing, ::Function, ::String, ::Bool) at .\\error.jl:134",
      " [2] systemerror at .\\error.jl:134 [inlined]",
      " [3] #open#309(::Nothing, ::Nothing, ::Nothing, ::Bool, ::Nothing, ::Function, ::String) at .\\iostream.jl:289",
      " [4] #open at .\\none:0 [inlined]",
      " [5] open(::String, ::String) at .\\iostream.jl:345",
      " [6] #open#310(::Base.Iterators.Pairs{Union{},Union{},Tuple{},NamedTuple{(),Tuple{}}}, ::Function, ::getfield(WAV, Symbol(\"##25#26\")){Float32,Int64,Int64,Array{WAVChunk,1},Array{Float64,2}}, ::String, ::Vararg{String,N} where N) at .\\iostream.jl:373",
      " [7] open at .\\iostream.jl:373 [inlined]",
      " [8] #wavwrite#24 at C:\\Users\\leonw\\.juliapro\\JuliaPro_v1.1.1.1\\packages\\WAV\\uORV0\\src\\WAV.jl:750 [inlined]",
      " [9] (::getfield(WAV, Symbol(\"#kw##wavwrite\")))(::NamedTuple{(:Fs,),Tuple{Float32}}, ::typeof(wavwrite), ::Array{Float64,2}, ::String) at .\\none:0",
      " [10] top-level scope at In[76]:4"
     ]
    }
   ],
   "source": [
    "s1 = hcat(S[2,:,], S[4,:,])\n",
    "wavwrite(s2, \"result2.wav\", Fs = fs2)\n",
    "s2 = hcat(S[1,:,], S[3,:,])\n",
    "wavwrite(s1, \"result1.wav\", Fs = fs1)"
   ]
  },
  {
   "cell_type": "code",
   "execution_count": 51,
   "metadata": {},
   "outputs": [],
   "source": [
    "wavplay(s1,fs2)"
   ]
  },
  {
   "cell_type": "code",
   "execution_count": 54,
   "metadata": {},
   "outputs": [
    {
     "data": {
      "text/plain": [
       "4×2646000 Array{Float64,2}:\n",
       " 0.0  0.0  0.0  0.0  0.0  0.0  0.0  0.0  …   0.150706   0.16486    0.162165\n",
       " 0.0  0.0  0.0  0.0  0.0  0.0  0.0  0.0      0.164443   0.151627   0.175775\n",
       " 0.0  0.0  0.0  0.0  0.0  0.0  0.0  0.0     -0.787336  -0.813027  -0.848823\n",
       " 0.0  0.0  0.0  0.0  0.0  0.0  0.0  0.0     -0.246977  -0.235055  -0.227591"
      ]
     },
     "execution_count": 54,
     "metadata": {},
     "output_type": "execute_result"
    }
   ],
   "source": [
    "wavplay(s2,fs1)"
   ]
  },
  {
   "cell_type": "code",
   "execution_count": 58,
   "metadata": {},
   "outputs": [
    {
     "data": {
      "text/plain": [
       "2646000×2 Array{Float64,2}:\n",
       "  0.0        0.0     \n",
       "  0.0        0.0     \n",
       "  0.0        0.0     \n",
       "  0.0        0.0     \n",
       "  0.0        0.0     \n",
       "  0.0        0.0     \n",
       "  0.0        0.0     \n",
       "  0.0        0.0     \n",
       "  0.0        0.0     \n",
       "  0.0        0.0     \n",
       "  0.0        0.0     \n",
       "  0.0        0.0     \n",
       "  0.0        0.0     \n",
       "  ⋮                  \n",
       " -0.154485  -0.211158\n",
       " -0.15305   -0.219123\n",
       " -0.158116  -0.222022\n",
       " -0.170934  -0.217109\n",
       " -0.176458  -0.215003\n",
       " -0.183569  -0.212348\n",
       " -0.195257  -0.218085\n",
       " -0.199438  -0.236244\n",
       " -0.203375  -0.241096\n",
       " -0.213569  -0.234565\n",
       " -0.221595  -0.240181\n",
       " -0.230232  -0.252632"
      ]
     },
     "execution_count": 58,
     "metadata": {},
     "output_type": "execute_result"
    }
   ],
   "source": [
    "y1"
   ]
  },
  {
   "cell_type": "code",
   "execution_count": null,
   "metadata": {},
   "outputs": [],
   "source": []
  }
 ],
 "metadata": {
  "kernelspec": {
   "display_name": "Julia 1.1.1",
   "language": "julia",
   "name": "julia-1.1"
  },
  "language_info": {
   "file_extension": ".jl",
   "mimetype": "application/julia",
   "name": "julia",
   "version": "1.1.1"
  }
 },
 "nbformat": 4,
 "nbformat_minor": 2
}
