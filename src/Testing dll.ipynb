{
 "cells": [
  {
   "cell_type": "code",
   "execution_count": 12,
   "metadata": {},
   "outputs": [],
   "source": [
    "struct ICA_Params\n",
    "  n_components::Cint\n",
    "  conv_threshold::Cdouble\n",
    "  alpha::Cdouble\n",
    "  white_type_id::Cint\n",
    "  cont_func_id::Cint\n",
    "  verbose::Cuchar \n",
    "end"
   ]
  },
  {
   "cell_type": "code",
   "execution_count": 9,
   "metadata": {},
   "outputs": [
    {
     "name": "stderr",
     "output_type": "stream",
     "text": [
      "WARNING: replacing module fastICA.\n"
     ]
    },
    {
     "data": {
      "text/plain": [
       "Ptr{Nothing} @0x000000000bbc6910"
      ]
     },
     "execution_count": 9,
     "metadata": {},
     "output_type": "execute_result"
    }
   ],
   "source": [
    "#using Pkg\n",
    "#Pkg.add(\"Plots\")\n",
    "\n",
    "using Plots\n",
    "\n",
    "s1 = sin.((1:10000)./20)\n",
    "plot(s1, linewidth=2, title = \"S1\")\n",
    "\n",
    "s2 = vec(repeat(((1:2000).-100)/100, 5))\n",
    "plot(s2,linewidth=2,title=\"S2\")\n",
    "#mixing matrix\n",
    "A = [0.291 -0.5439 ; 0.6557 0.5572]\n",
    "S = hcat(s1,s2)\n",
    "X = S * A\n",
    "C = vec(X)\n",
    "include(\"fastICA.jl\")\n",
    "W = vec(fastICA.whiten(X))\n",
    "\n",
    "\n",
    "X1c = ccall((:new_Matrix_c,\"fica\") ,Ptr{Cvoid}, (Ptr{Cdouble},Cuintmax_t,Cuintmax_t), C,10000,2)\n",
    "W1c = ccall((:new_Matrix_c,\"fica\") ,Ptr{Cvoid}, (Ptr{Cvoid},Cuchar,Cuintmax_t), W,2,2)\n",
    "\n",
    "\n"
   ]
  },
  {
   "cell_type": "code",
   "execution_count": 10,
   "metadata": {},
   "outputs": [
    {
     "name": "stdout",
     "output_type": "stream",
     "text": [
      "alo\r\n",
      "\r\n",
      "-0.153013 -0.130663\r\n",
      "   1.5244  -1.78515\r\n",
      "\r\n"
     ]
    },
    {
     "data": {
      "text/plain": [
       "Ptr{Nothing} @0x00007fffcd690490"
      ]
     },
     "execution_count": 10,
     "metadata": {},
     "output_type": "execute_result"
    }
   ],
   "source": [
    "ccall((:print_Matrix,\"fica\") ,Ptr{Cvoid}, (Ptr{Cvoid},Cstring), W1c,\"alo\")"
   ]
  },
  {
   "cell_type": "code",
   "execution_count": 6,
   "metadata": {},
   "outputs": [
    {
     "data": {
      "text/plain": [
       "Ptr{Nothing} @0x000000002c761f80"
      ]
     },
     "execution_count": 6,
     "metadata": {},
     "output_type": "execute_result"
    }
   ],
   "source": [
    "iniwei = [1.02081 0.408655 -1.92523 -0.756068]\n",
    "\n",
    "iniweic = ccall((:new_Matrix_r,\"fica\") ,Ptr{Cvoid}, (Ptr{Cdouble},Cuintmax_t,Cuintmax_t), iniwei,2,2)\n"
   ]
  }
 ],
 "metadata": {
  "kernelspec": {
   "display_name": "Julia 1.1.1",
   "language": "julia",
   "name": "julia-1.1"
  },
  "language_info": {
   "file_extension": ".jl",
   "mimetype": "application/julia",
   "name": "julia",
   "version": "1.1.1"
  }
 },
 "nbformat": 4,
 "nbformat_minor": 2
}
