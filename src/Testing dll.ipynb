{
 "cells": [
  {
   "cell_type": "markdown",
   "metadata": {},
   "source": [
    "##This will result in dead kernel!! Testing behavior when error is forced"
   ]
  },
  {
   "cell_type": "code",
   "execution_count": null,
   "metadata": {},
   "outputs": [],
   "source": [
    "A = [1.0, 2.0, 3.0, 4.0, 5.0, 6.0]\n",
    "r = ccall((:create_matrix,\"fica\"),Ptr{Cvoid}, (Ptr{Cdouble},Cuintmax_t,Cuintmax_t), A,3,2)\n",
    "ccall((:free_matrix,\"fica\"),Cvoid,(Ptr{Cvoid},),r)\n",
    "ccall((:print_matrix,\"fica\"),Cvoid,(Ptr{Cvoid},),r)"
   ]
  },
  {
   "cell_type": "code",
   "execution_count": null,
   "metadata": {},
   "outputs": [],
   "source": [
    "pwd()"
   ]
  },
  {
   "cell_type": "code",
   "execution_count": null,
   "metadata": {},
   "outputs": [],
   "source": [
    "A = [1.0 2.0 3.0 4.0 5.0 6.0]\n",
    "r = ccall((:new_Matrix_c,\"fica\"),Ptr{Cvoid}, (Ptr{Cdouble},Cuintmax_t,Cuintmax_t), A,3,2)\n",
    "\n",
    "ccall((:print_Matrix,\"fica\"),Cvoid,(Ptr{Cvoid}, Cstring),r,\"funcemina!!\")"
   ]
  },
  {
   "cell_type": "code",
   "execution_count": null,
   "metadata": {},
   "outputs": [],
   "source": [
    "ccall((:matrix_dims,\"fica\"),Cvoid, (Ptr{Cvoid},Ref{Cuintmax_t},Ref{Cuintmax_t}), r,cols.i,lines.i)"
   ]
  },
  {
   "cell_type": "markdown",
   "metadata": {},
   "source": [
    "##Simple test to print matrix"
   ]
  },
  {
   "cell_type": "code",
   "execution_count": null,
   "metadata": {},
   "outputs": [],
   "source": [
    "lines.i"
   ]
  },
  {
   "cell_type": "code",
   "execution_count": null,
   "metadata": {},
   "outputs": [],
   "source": [
    "A = [1.0, 2.0, 3.0, 4.0, 5.0, 6.0]\n",
    "r = ccall((:create_matrix,\"fica\"),Ptr{Cvoid}, (Ptr{Cdouble},Cuintmax_t,Cuintmax_t), A,3,2)\n",
    "ccall((:print_matrix,\"fica\"),Cvoid,(Ptr{Cvoid},),r)"
   ]
  },
  {
   "cell_type": "code",
   "execution_count": null,
   "metadata": {},
   "outputs": [],
   "source": [
    "b = sum(A)"
   ]
  },
  {
   "cell_type": "code",
   "execution_count": null,
   "metadata": {},
   "outputs": [],
   "source": [
    "b * A"
   ]
  },
  {
   "cell_type": "code",
   "execution_count": null,
   "metadata": {},
   "outputs": [],
   "source": [
    "using LinearAlgebra\n",
    "\n",
    "\n",
    "normalize!(A)"
   ]
  },
  {
   "cell_type": "code",
   "execution_count": null,
   "metadata": {},
   "outputs": [],
   "source": [
    "A = [1.0, 2.0, 3.0, 4.0]\n",
    "tanh.(A)"
   ]
  },
  {
   "cell_type": "code",
   "execution_count": null,
   "metadata": {},
   "outputs": [],
   "source": [
    "sum(A .* B)"
   ]
  },
  {
   "cell_type": "code",
   "execution_count": 1,
   "metadata": {},
   "outputs": [
    {
     "ename": "LoadError",
     "evalue": "syntax: extra token \"struct\" after end of expression",
     "output_type": "error",
     "traceback": [
      "syntax: extra token \"struct\" after end of expression",
      ""
     ]
    }
   ],
   "source": [
    "typedef struct {\n",
    "        unsigned int n_components;\n",
    "        double conv_threshold;\n",
    "        double alpha;\n",
    "        WhiteningTypeId white_type_id;\n",
    "        ContrastFunctionId cont_func_id;\n",
    "        bool verbose;\n",
    "    } ICA_Params;"
   ]
  },
  {
   "cell_type": "code",
   "execution_count": 1,
   "metadata": {},
   "outputs": [],
   "source": [
    "struct ICA_Params\n",
    "  n_components::Cint\n",
    "  conv_threshold::Cdouble\n",
    "  alpha::Cdouble\n",
    "  white_type_id::Cint\n",
    "  cont_func_id::Cint\n",
    "  verbose::Cuchar \n",
    "end"
   ]
  },
  {
   "cell_type": "code",
   "execution_count": 9,
   "metadata": {},
   "outputs": [
    {
     "name": "stderr",
     "output_type": "stream",
     "text": [
      "WARNING: replacing module fastICA.\n"
     ]
    },
    {
     "data": {
      "text/plain": [
       "Ptr{Nothing} @0x000000000bca3750"
      ]
     },
     "execution_count": 9,
     "metadata": {},
     "output_type": "execute_result"
    }
   ],
   "source": [
    "#using Pkg\n",
    "#Pkg.add(\"Plots\")\n",
    "\n",
    "using Plots\n",
    "\n",
    "s1 = sin.((1:1000)./20)\n",
    "plot(s1, linewidth=2, title = \"S1\")\n",
    "\n",
    "s2 = vec(repeat(((1:200).-100)/100, 5))\n",
    "plot(s2,linewidth=2,title=\"S2\")\n",
    "#mixing matrix\n",
    "A = [0.291 -0.5439 ; 0.6557 0.5572]\n",
    "S = hcat(s1,s2)\n",
    "X = S * A\n",
    "C = vec(X)\n",
    "include(\"fastICA.jl\")\n",
    "W = vec(fastICA.whiten(X))\n",
    "\n",
    "\n",
    "X1c = ccall((:new_Matrix_c,\"fica\") ,Ptr{Cvoid}, (Ptr{Cdouble},Cuintmax_t,Cuintmax_t), C,1000,2)\n",
    "W1c = ccall((:new_Matrix_r,\"fica\") ,Ptr{Cvoid}, (Ptr{Cdouble},Cuintmax_t,Cuintmax_t), W,2,2)\n"
   ]
  },
  {
   "cell_type": "code",
   "execution_count": 10,
   "metadata": {},
   "outputs": [
    {
     "data": {
      "text/plain": [
       "Ptr{Nothing} @0x000000000bca32d0"
      ]
     },
     "execution_count": 10,
     "metadata": {},
     "output_type": "execute_result"
    }
   ],
   "source": [
    "iniwei = [1.02081 0.408655 -1.92523 -0.756068]\n",
    "\n",
    "iniweic = ccall((:new_Matrix_r,\"fica\") ,Ptr{Cvoid}, (Ptr{Cdouble},Cuintmax_t,Cuintmax_t), iniwei,2,2)\n"
   ]
  },
  {
   "cell_type": "code",
   "execution_count": 1,
   "metadata": {},
   "outputs": [
    {
     "ename": "UndefVarError",
     "evalue": "UndefVarError: ICA_Params not defined",
     "output_type": "error",
     "traceback": [
      "UndefVarError: ICA_Params not defined",
      "",
      "Stacktrace:",
      " [1] top-level scope at In[1]:1"
     ]
    }
   ],
   "source": [
    "p = ICA_Params(2,0.001,1.,0,0,false)"
   ]
  },
  {
   "cell_type": "code",
   "execution_count": null,
   "metadata": {},
   "outputs": [],
   "source": [
    "a = ccall((:fast_ica,\"fica\") ,Ptr{Cvoid}, (Ptr{Cvoid},Ptr{Cvoid},Ptr{Cvoid},ICA_Params), X1c,iniweic,W1c,p)"
   ]
  },
  {
   "cell_type": "code",
   "execution_count": 4,
   "metadata": {},
   "outputs": [
    {
     "data": {
      "text/plain": [
       "ICA_Params(2, 0.001, 1.0, 0, 0, 0x00)"
      ]
     },
     "execution_count": 4,
     "metadata": {},
     "output_type": "execute_result"
    }
   ],
   "source": []
  },
  {
   "cell_type": "code",
   "execution_count": 8,
   "metadata": {},
   "outputs": [
    {
     "name": "stdout",
     "output_type": "stream",
     "text": [
      "funcemina!!\r\n",
      "\r\n",
      "  1.02081  0.408655\r\n",
      " -1.92523 -0.756068\r\n",
      "\r\n"
     ]
    }
   ],
   "source": [
    "ccall((:print_Matrix,\"fica\"),Cvoid,(Ptr{Cvoid}, Cstring),iniweic,\"funcemina!!\")"
   ]
  },
  {
   "cell_type": "code",
   "execution_count": 6,
   "metadata": {},
   "outputs": [
    {
     "data": {
      "text/plain": [
       "2×2 Array{Float64,2}:\n",
       "  1.02081   0.408655\n",
       " -1.92523  -0.756068"
      ]
     },
     "execution_count": 6,
     "metadata": {},
     "output_type": "execute_result"
    }
   ],
   "source": [
    "iniwei = [1.02081 0.408655 ; -1.92523 -0.756068]"
   ]
  },
  {
   "cell_type": "code",
   "execution_count": null,
   "metadata": {},
   "outputs": [],
   "source": []
  }
 ],
 "metadata": {
  "kernelspec": {
   "display_name": "Julia 1.1.1",
   "language": "julia",
   "name": "julia-1.1"
  },
  "language_info": {
   "file_extension": ".jl",
   "mimetype": "application/julia",
   "name": "julia",
   "version": "1.1.1"
  }
 },
 "nbformat": 4,
 "nbformat_minor": 2
}
